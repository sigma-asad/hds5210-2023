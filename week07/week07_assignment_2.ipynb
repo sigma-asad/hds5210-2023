{
  "cells": [
    {
      "cell_type": "markdown",
      "metadata": {
        "id": "x-PqE5O9FUAF"
      },
      "source": [
        "# Week 7 Assignment\n",
        "\n",
        "We've been working with different types of data structures in Python (dictionary, list, etc), how those are represented in JSON documents, and how to write code to access specific data elements. In this week's assignment, you will need to create your own JSON document to store information about yourself and the grades you've received from week 1 to week 4 and the week 6 quiz.  That is, everything you should have received a grade for.  Then you'll need to show me you know how to navigate the JSON in that file.\n",
        "\n",
        "Different from what we've done in the past, you do not have to write any functions or include any docstrings.  Just create some JSON and write some code.\n",
        "\n",
        "---"
      ]
    },
    {
      "cell_type": "markdown",
      "metadata": {
        "id": "8z_xUnYtFUAG"
      },
      "source": [
        "## 7.1 Create a JSON string\n",
        "\n",
        "Create a JSON string that contains your name, email, year you were born, all of the grades you've received back so far, and a comment about what you thought was most challenging on each of those assignments.  This can be any structure you choose, but make sure it uses a dictionary and a list, and has at least two levels of hierarchy.  That is, it can't just be one big long list."
      ]
    },
    {
      "cell_type": "markdown",
      "metadata": {
        "id": "5Hq47BxvFUAG"
      },
      "source": [
        "First, explain how your data structure is going to look..."
      ]
    },
    {
      "cell_type": "markdown",
      "metadata": {
        "id": "vBgs_JkBFUAG"
      },
      "source": [
        "* The variable \"hds5210\" contains a JSON object with five key-value pairs, each representing a different type of data.\n",
        "\n",
        "String and integer values are directly associated with the \"name,\" \"email,\" and \"born\" entries.\n",
        "A collection of strings, named \"grades,\" represents grades.\n",
        "Another JSON object, named \"comments,\" consists of strings for its keys (\"1st week,\" \"2nd week,\" etc.) and strings for its values, each representing a remark.\n",
        "\n",
        "\n",
        "\n"
      ]
    },
    {
      "cell_type": "markdown",
      "metadata": {
        "id": "NZpyD75MFUAG"
      },
      "source": [
        "Then put the actual JSON you've created inside the multiline string below..."
      ]
    },
    {
      "cell_type": "code",
      "execution_count": 6,
      "metadata": {
        "id": "u8MQudItFUAH"
      },
      "outputs": [],
      "source": [
        "hds5210 = \"\"\"\n",
        "hds5210 = {\n",
        " \"name\": \"ASAD HUSSAIN KHAN\",\n",
        " \"email ID\": \"asadhussain.khan@slu.edu\",\n",
        " \"year_of_birth\": 1994,\n",
        " \"grades\": [\"10\",\"9\",\"10\",\"8\",\"5\"],\n",
        " \"comments\": {\n",
        " \"1st week\":\"Solving this was fairly simple.\",\n",
        " \"2nd week\":\"New area of study.\",\n",
        " \"3rd week\":\"This made me realize that I needed to learn more.\",\n",
        " \"4th week\":\"This week's topics are excellent, and I learned a lot.\",\n",
        " \"6th week\":\"I should code more effectively.\"\n",
        " }\n",
        "}\n",
        "\"\"\""
      ]
    },
    {
      "cell_type": "markdown",
      "metadata": {
        "id": "IIO3t-2LFUAH"
      },
      "source": [
        "## 7.2 Do something with your JSON\n",
        "\n",
        "Now use Python code to do something with the Json above.  Turn it into English text, but make sure that you use at least one loop to access some dict or list content of your JSON.  Below, I've provided some basic code to read in the string above as JSON and return a Python object.  Your job is to work with that data structure and print out the important information like your name, email, and how you did on each assignment."
      ]
    },
    {
      "cell_type": "code",
      "execution_count": 7,
      "metadata": {
        "id": "3polS9spFUAH",
        "outputId": "ca7d9b2b-78d6-41ea-bbf1-91f521030c82",
        "colab": {
          "base_uri": "https://localhost:8080/"
        }
      },
      "outputs": [
        {
          "output_type": "stream",
          "name": "stdout",
          "text": [
            "Hello, I'm ASAD HUSSAIN KHAN and I was born in 1994.\n",
            "I've received 5 grades so far: 10, 9, 10, 8, 5.\n",
            "Here are my comments about my weekly progress:\n",
            "For 1st week, I noted: Solving this was fairly simple.\n",
            "For 2nd week, I noted: New area of study.\n",
            "For 3rd week, I noted: This made me realize that I needed to learn more.\n",
            "For 4th week, I noted: This week's topics are excellent, and I learned a lot.\n",
            "For 6th week, I noted: I should code more effectively.\n"
          ]
        }
      ],
      "source": [
        "import json\n",
        "\n",
        "student_data = \"\"\"\n",
        "{\n",
        " \"name\": \"ASAD HUSSAIN KHAN\",\n",
        " \"email ID\": \"asadhussain.khan@slu.edu\",\n",
        " \"year_of_birth\": 1994,\n",
        " \"grades\": [\"10\", \"9\", \"10\", \"8\", \"5\"],\n",
        " \"comments\": {\n",
        " \"1st week\": \"Solving this was fairly simple.\",\n",
        " \"2nd week\": \"New area of study.\",\n",
        " \"3rd week\": \"This made me realize that I needed to learn more.\",\n",
        " \"4th week\": \"This week's topics are excellent, and I learned a lot.\",\n",
        " \"6th week\": \"I should code more effectively.\"\n",
        " }\n",
        "}\n",
        "\"\"\"\n",
        "\n",
        "info = json.loads(student_data)\n",
        "\n",
        "name = info.get('name', 'Unknown')\n",
        "year_of_birth = info.get('year_of_birth', 'Unknown')\n",
        "\n",
        "print(f\"Hello, I'm {name} and I was born in {year_of_birth}.\")\n",
        "\n",
        "grades = info.get('grades', [])\n",
        "score_count = len(grades)\n",
        "\n",
        "if score_count > 0:\n",
        "    print(f\"I've received {score_count} grade{'s' if score_count > 1 else ''} so far: {', '.join(grades)}.\")\n",
        "else:\n",
        "    print(\"I haven't received any grades yet.\")\n",
        "\n",
        "comments = info.get('comments', {})\n",
        "\n",
        "if comments:\n",
        "    print(\"Here are my comments about my weekly progress:\")\n",
        "    for week, comment in comments.items():\n",
        "        print(f\"For {week}, I noted: {comment}\")\n",
        "else:\n",
        "    print(\"It appears I didn't make any comments.\")\n",
        "\n"
      ]
    },
    {
      "cell_type": "markdown",
      "metadata": {
        "id": "RxUYTgf0FUAH"
      },
      "source": [
        "## 7.3 Reflect\n",
        "\n",
        "Write a paragraph on any reflections you have. Was this hard? Easy?  What parts were most challenging or easiest? What did you like or dislike about the assignment?  Share whatever important thoughts you have abou this assignment."
      ]
    },
    {
      "cell_type": "markdown",
      "metadata": {
        "id": "aZpAOsiGFUAH"
      },
      "source": [
        "In my opinion, the aforementioned coding exercise was satisfying. I found working with the data structures to be enjoyable, and converting JSON data to Python was rather simple. However, juggling user interface modifications with functionality caused particular difficulties, especially when taking accessibility into account. Without a full web page view, it can be difficult to ensure that the code complies with accessibility standards. I valued the focus on inclusivity and the significance of making online apps usable by all users.\n",
        "\n",
        "The necessity to occasionally modify the code to prevent plagiarism, on the other hand, did seem a little dull. But upholding the integrity of one's work and adhering to ethical coding norms is crucial because doing so eventually encourages creativity and innovation among programmers. Overall, I considered this assignment to be an insightful learning opportunity that reaffirmed the necessity of creativity and accessibility in coding projects.\n",
        "\n"
      ]
    },
    {
      "cell_type": "markdown",
      "metadata": {
        "id": "bqVrNNr2FUAH"
      },
      "source": [
        "---\n",
        "\n",
        "# Example\n",
        "\n",
        "Below is an example of something similar, but this uses information my and my friend's kids instead of grades."
      ]
    },
    {
      "cell_type": "code",
      "execution_count": 8,
      "metadata": {
        "id": "XFUv0cdBFUAH",
        "outputId": "6826875c-8316-4a8c-e338-b9b7d1c18c44",
        "colab": {
          "base_uri": "https://localhost:8080/"
        }
      },
      "outputs": [
        {
          "output_type": "stream",
          "name": "stdout",
          "text": [
            "Hi, my name is Paul. I've got 3 kids. Their names are Ellie, Ada, Teddy.\n",
            "My friend, Anny has 1 kids. That's fewer than me. Their names are 1\n"
          ]
        }
      ],
      "source": [
        "hds5210 = \"\"\"\n",
        "{\n",
        "    \"me\": {\n",
        "        \"name\": \"Paul\",\n",
        "        \"kids\": [\"Ellie\", \"Ada\", \"Teddy\"]\n",
        "    },\n",
        "    \"friend\": {\n",
        "        \"name\": \"Anny\",\n",
        "        \"kids\": [\"Abby\"]\n",
        "    }\n",
        "}\n",
        "\"\"\"\n",
        "\n",
        "import json\n",
        "\n",
        "info = json.loads(hds5210)\n",
        "\n",
        "me = info[\"me\"][\"name\"]\n",
        "my_kids_count = len(info[\"me\"][\"kids\"])\n",
        "kids_list = \", \".join(info[\"me\"][\"kids\"])\n",
        "friend = info[\"friend\"][\"name\"]\n",
        "friends_kid_count = len(info[\"friend\"][\"kids\"])\n",
        "friend_kids = \", \".join(info[\"friend\"][\"kids\"])\n",
        "compare = \"more\" if friends_kid_count > my_kids_count else \"fewer\"\n",
        "\n",
        "print(f\"Hi, my name is {me}. I've got {my_kids_count} kids. Their names are {kids_list}.\")\n",
        "print(f\"My friend, {friend} has {friends_kid_count} kids. That's {compare} than me. Their names are {friends_kid_count}\")"
      ]
    }
  ],
  "metadata": {
    "kernelspec": {
      "display_name": "Python 3",
      "language": "python",
      "name": "python3"
    },
    "language_info": {
      "codemirror_mode": {
        "name": "ipython",
        "version": 3
      },
      "file_extension": ".py",
      "mimetype": "text/x-python",
      "name": "python",
      "nbconvert_exporter": "python",
      "pygments_lexer": "ipython3",
      "version": "3.9.16"
    },
    "colab": {
      "provenance": []
    }
  },
  "nbformat": 4,
  "nbformat_minor": 0
}