{
  "nbformat": 4,
  "nbformat_minor": 0,
  "metadata": {
    "colab": {
      "provenance": []
    },
    "kernelspec": {
      "name": "python3",
      "display_name": "Python 3"
    },
    "language_info": {
      "name": "python"
    }
  },
  "cells": [
    {
      "cell_type": "markdown",
      "source": [
        "# Week 1 Assignment\n",
        "\n",
        "The goal of this first assignment is to demonstrate that you know how to interact with Google Colab and GitHub using the process we'll be using to submit assignments and receive feedback in the course.  Complete the steps below:\n",
        "1. Open this notebook in Google Colab from my GitHub repository named `hds5210-2023`\n",
        "2. Edit the variables in the first cell below with your information\n",
        "3. Choose `Runtime->Run all` or `Runtime->Restart and run all`\n",
        "4. Save this notebook to the following path in your own GitHub repository: `week01/assignment1.ipynb`\n",
        "5. Verify that you can see your file in GitHub as noted in print statement\n"
      ],
      "metadata": {
        "id": "qMQiuSy_t3HW"
      }
    },
    {
      "cell_type": "code",
      "source": [
        "# @title Default title text\n",
        "my_email = 'asadhussain.khan@slu.edu'\n",
        "my_github = 'sigma-asad'\n",
        "my_repository = 'week01/assignment1.ipynb'"
      ],
      "metadata": {
        "id": "6kehfhGeuocK"
      },
      "execution_count": 3,
      "outputs": []
    },
    {
      "cell_type": "code",
      "source": [
        "print(f'''\n",
        "If I did this right, after saving to GitHub I'll see this file https://github.com/sigma-asad/week01-assignment1.ipynb''')"
      ],
      "metadata": {
        "colab": {
          "base_uri": "https://localhost:8080/"
        },
        "id": "NhEvJeMYbTKY",
        "outputId": "ec528f4f-c616-45f9-a9ea-d3d2e62e84b2"
      },
      "execution_count": 4,
      "outputs": [
        {
          "output_type": "stream",
          "name": "stdout",
          "text": [
            "\n",
            "If I did this right, after saving to GitHub I'll see this file https://github.com/sigma-asad/week01-assignment1.ipynb\n"
          ]
        }
      ]
    }
  ]
}