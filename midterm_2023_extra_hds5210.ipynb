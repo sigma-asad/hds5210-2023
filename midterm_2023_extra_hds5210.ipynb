{
  "cells": [
    {
      "cell_type": "markdown",
      "metadata": {
        "id": "view-in-github",
        "colab_type": "text"
      },
      "source": [
        "<a href=\"https://colab.research.google.com/github/sigma-asad/hds5210-2023/blob/main/midterm_2023_extra_hds5210.ipynb\" target=\"_parent\"><img src=\"https://colab.research.google.com/assets/colab-badge.svg\" alt=\"Open In Colab\"/></a>"
      ]
    },
    {
      "cell_type": "markdown",
      "metadata": {
        "id": "zUxDCepahYjm"
      },
      "source": [
        "# Extra Credit\n",
        "\n",
        "For upto an additional 15 extra credit points on the midterm exam, you can write another function that applies additional criteria on top of what the midterm already did.  To earn the addition points, you need write a function called `summarize_results(patients)` to take the output of your  `process_people()` function to apply a new business rule and summarize the results.\n",
        "\n",
        "* Your function should take the dictionary created by `process_people()` as it's one input parameter: `patients`.\n",
        "* If the PRIEST probably is less than 10%, change the `hospital` and `address` to both have a value of `'Home'` indicating patients with a lower probability of an adverse outcome can just go home rather than be admitted to a hospital.\n",
        "* Summarize those results and count how many patients are now being sent to each location.  Your result should have the following format:\n",
        "```\n",
        "{\n",
        "    \"Home\": 123,\n",
        "    \"Hospital A\": 10,\n",
        "    \"Hospital B\": 20,\n",
        "    \"Hospital C\": 30\n",
        "}\n",
        "```\n",
        "\n",
        "As always, your function needs good docstrings; but does not require any doctests in this case."
      ]
    },
    {
      "cell_type": "code",
      "execution_count": 2,
      "metadata": {
        "id": "Ko3wpGWshYjr"
      },
      "outputs": [],
      "source": [
        "def summarize_results(patients):\n",
        "    \"\"\"\n",
        "    This function is used to summarize the results of the patients where\n",
        "    If the PRIEST probably is less than 10%, change the hospital name to both have a value of 'Home'\n",
        "    indicating patients with a lower probability of an adverse outcome can just go home rather\n",
        "    than be admitted to a hospital. this should help us understand how many users are going to hospital or home\n",
        "\n",
        "    Input\n",
        "    ---------\n",
        "        patients :\n",
        "\n",
        "    Output\n",
        "    ---------\n",
        "        response: its the dictionary which consists key as hospital name and value as patient count who is going to that hospital\n",
        "    \"\"\"\n",
        "    response = {}\n",
        "    for key in patients.keys():\n",
        "        record = patients[key]\n",
        "        priest_pct = record[-3]\n",
        "        if priest_pct < 0.1:\n",
        "            if \"Home\" in response:\n",
        "                response[\"Home\"] += 1\n",
        "            else:\n",
        "                response[\"Home\"] = 1\n",
        "        else:\n",
        "            hospital_name = record[-2]\n",
        "            if hospital_name in response:\n",
        "                response[hospital_name] += 1\n",
        "            else:\n",
        "                response[hospital_name] = 1\n",
        "    return response"
      ]
    },
    {
      "cell_type": "code",
      "execution_count": 2,
      "metadata": {
        "id": "v9iol9jHhYjs"
      },
      "outputs": [],
      "source": []
    }
  ],
  "metadata": {
    "colab": {
      "provenance": [],
      "include_colab_link": true
    },
    "kernelspec": {
      "display_name": "Python 3 (ipykernel)",
      "language": "python",
      "name": "python3"
    },
    "language_info": {
      "codemirror_mode": {
        "name": "ipython",
        "version": 3
      },
      "file_extension": ".py",
      "mimetype": "text/x-python",
      "name": "python",
      "nbconvert_exporter": "python",
      "pygments_lexer": "ipython3",
      "version": "3.11.3"
    }
  },
  "nbformat": 4,
  "nbformat_minor": 0
}