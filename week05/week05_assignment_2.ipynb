{
  "cells": [
    {
      "cell_type": "markdown",
      "metadata": {
        "nbgrader": {
          "grade": false,
          "grade_id": "intro",
          "locked": true,
          "schema_version": 1,
          "solution": false
        },
        "id": "o7VjzM5y5OQZ"
      },
      "source": [
        "# Week 5 Exercises\n",
        "\n",
        "_McKinney 3.2_\n",
        "\n",
        "**Unlike in previous weeks, in the exercises below, you will need to create a function definition from scratch.  I'll provide specific instructions and examples for how it will be used, but you will have to do the work of definiging the whole function.**\n",
        "\n",
        "---\n",
        "---"
      ]
    },
    {
      "cell_type": "markdown",
      "metadata": {
        "nbgrader": {
          "grade": false,
          "grade_id": "longest",
          "locked": true,
          "schema_version": 1,
          "solution": false
        },
        "id": "iJULK0bB5OQa"
      },
      "source": [
        "### 25.1 Longest String\n",
        "\n",
        "Write a function called `longest (L)` that takes as its only parameter a list of strings.  Your function needs to find the longest of those strings and return the position number of that longest string.  An example is provided below:\n",
        "\n",
        "The longest word in that list of strings is \"birthday\" in position #1, so `longest(strings)` should return 1.\n",
        "```\n",
        ">>> strings = ['happy', 'birthday', 'to', 'me']\n",
        ">>> longest(strings)\n",
        "1\n",
        "```\n",
        "\n",
        "Be sure to include a docstring.  Include test cases in your docstring if you want to."
      ]
    },
    {
      "cell_type": "code",
      "execution_count": 36,
      "metadata": {
        "nbgrader": {
          "grade": false,
          "grade_id": "longest-answer",
          "locked": false,
          "schema_version": 1,
          "solution": true
        },
        "id": "npicp_765OQa",
        "outputId": "0feea369-689d-46e4-ef34-c11e8d9b51b2",
        "colab": {
          "base_uri": "https://localhost:8080/"
        }
      },
      "outputs": [
        {
          "output_type": "stream",
          "name": "stdout",
          "text": [
            "Finding tests in NoName\n",
            "Trying:\n",
            "    find_longest_name_index(['Alice', 'Bob', 'Charlie', 'David'])\n",
            "Expecting:\n",
            "    2\n",
            "ok\n",
            "Trying:\n",
            "    find_longest_name_index(['Ella', 'Fiona', 'Grace'])\n",
            "Expecting:\n",
            "    1\n",
            "ok\n",
            "Trying:\n",
            "    find_longest_name_index(['Henry', 'Isabella', 'Jacob', 'Liam'])\n",
            "Expecting:\n",
            "    1\n",
            "ok\n"
          ]
        }
      ],
      "source": [
        "### BEGIN SOLUTION\n",
        "def find_longest_name_index(names):\n",
        "    \"\"\"\n",
        "    Find the index of the longest name in a list of names.\n",
        "\n",
        "    :param names: A list of names to search through.\n",
        "    :type names: list of str\n",
        "    :return: The index of the longest name in the list.\n",
        "    :rtype: int\n",
        "\n",
        "    Examples:\n",
        "    >>> find_longest_name_index(['Alice', 'Bob', 'Charlie', 'David'])\n",
        "    2\n",
        "    >>> find_longest_name_index(['Ella', 'Fiona', 'Grace'])\n",
        "    1\n",
        "    >>> find_longest_name_index(['Henry', 'Isabella', 'Jacob', 'Liam'])\n",
        "    1\n",
        "    \"\"\"\n",
        "    name_lengths = [len(name) for name in names]\n",
        "    return name_lengths.index(max(name_lengths))\n",
        "\n",
        "assert find_longest_name_index(\"happy birthday to me\".split(\" \")) == 1\n",
        "assert find_longest_name_index(\"enjoy class\".split(\" \")) == 0\n",
        "assert find_longest_name_index(['when', 'what', 'where', 'how', 'who']) == 2\n",
        "\n",
        "import doctest\n",
        "doctest.run_docstring_examples(find_longest_name_index, globals(), verbose=True)\n",
        "\n",
        "\n",
        "### END SOLUTION"
      ]
    },
    {
      "cell_type": "code",
      "execution_count": 37,
      "metadata": {
        "nbgrader": {
          "grade": true,
          "grade_id": "longest-tests",
          "locked": true,
          "points": 10,
          "schema_version": 1,
          "solution": false
        },
        "id": "PJ4DXzFM5OQb"
      },
      "outputs": [],
      "source": [
        "assert find_longest_name_index (\"happy birthday to me\".split(\" \")) == 1\n",
        "assert find_longest_name_index (\"enjoy class\".split(\" \")) == 0\n",
        "assert find_longest_name_index (['when','what','where','how','who']) == 2"
      ]
    },
    {
      "cell_type": "code",
      "execution_count": 38,
      "metadata": {
        "id": "o9GuBYpQ5OQb",
        "outputId": "9198e236-b0ff-4b33-ec7e-ed4018797367",
        "colab": {
          "base_uri": "https://localhost:8080/"
        }
      },
      "outputs": [
        {
          "output_type": "stream",
          "name": "stdout",
          "text": [
            "Finding tests in NoName\n",
            "Trying:\n",
            "    find_longest_name_index(['Alice', 'Bob', 'Charlie', 'David'])\n",
            "Expecting:\n",
            "    2\n",
            "ok\n",
            "Trying:\n",
            "    find_longest_name_index(['Ella', 'Fiona', 'Grace'])\n",
            "Expecting:\n",
            "    1\n",
            "ok\n",
            "Trying:\n",
            "    find_longest_name_index(['Henry', 'Isabella', 'Jacob', 'Liam'])\n",
            "Expecting:\n",
            "    1\n",
            "ok\n"
          ]
        }
      ],
      "source": [
        "import doctest\n",
        "doctest.run_docstring_examples(find_longest_name_index, globals(), verbose=True)"
      ]
    },
    {
      "cell_type": "markdown",
      "metadata": {
        "id": "KKGu-r9n5OQb"
      },
      "source": [
        "### 25.2 Farenheit to Celsius\n",
        "\n",
        "Write a function called f_to_c() that converts a given temperature in degrees Farenheit to degrees Celsius.  If you don't recall that conversion, it is:\n",
        "\n",
        "$ temp_c = \\frac{5}{9} \\times (temp_f - 32) $\n",
        "\n",
        "Make sure that you code is well documented using the DocString examples, and that your code includes tests for 212f, 32f, and 98.6f."
      ]
    },
    {
      "cell_type": "code",
      "execution_count": 39,
      "metadata": {
        "id": "Mn5DiHq75OQb",
        "outputId": "8ec10d46-f2b3-4eee-cabe-290414fbc395",
        "colab": {
          "base_uri": "https://localhost:8080/"
        }
      },
      "outputs": [
        {
          "output_type": "stream",
          "name": "stdout",
          "text": [
            "Enter temperature in Fahrenheit: 100\n",
            "100.0°F is equal to 37.78°C.\n"
          ]
        }
      ],
      "source": [
        "### BEGIN SOLUTION\n",
        "def fahrenheit_to_celsius(fahrenheit):\n",
        "    \"\"\"\n",
        "    Convert temperature from Fahrenheit to Celsius.\n",
        "\n",
        "    :param fahrenheit: Temperature in Fahrenheit.\n",
        "    :type fahrenheit: float\n",
        "    :return: Temperature in Celsius.\n",
        "    :rtype: float\n",
        "\n",
        "    Examples:\n",
        "    >>> round(fahrenheit_to_celsius(212), 2)\n",
        "    100.0\n",
        "\n",
        "    >>> round(fahrenheit_to_celsius(32), 2)\n",
        "    0.0\n",
        "\n",
        "    >>> round(fahrenheit_to_celsius(98.6), 2)\n",
        "    37.0\n",
        "    \"\"\"\n",
        "    celsius = (fahrenheit - 32) * 5/9\n",
        "    return round(celsius, 2)\n",
        "\n",
        "\n",
        "\n",
        "if __name__ == \"__main__\":\n",
        "    temperature_in_fahrenheit = float(input(\"Enter temperature in Fahrenheit: \"))\n",
        "    temperature_in_celsius = fahrenheit_to_celsius(temperature_in_fahrenheit)\n",
        "    print(f\"{temperature_in_fahrenheit}°F is equal to {temperature_in_celsius}°C.\")\n",
        "\n",
        "\n",
        "### END SOLUTION"
      ]
    },
    {
      "cell_type": "code",
      "execution_count": 40,
      "metadata": {
        "id": "tCrc89Dv5OQb"
      },
      "outputs": [],
      "source": [
        "assert fahrenheit_to_celsius(212) == 100.0\n",
        "assert fahrenheit_to_celsius(32) == 0.0\n",
        "assert fahrenheit_to_celsius(98.6) == 37.0"
      ]
    },
    {
      "cell_type": "code",
      "execution_count": 41,
      "metadata": {
        "id": "WWQ_Vqqd5OQc",
        "outputId": "902dce75-d9ad-4758-a50a-ab3ceb9fbc2f",
        "colab": {
          "base_uri": "https://localhost:8080/"
        }
      },
      "outputs": [
        {
          "output_type": "stream",
          "name": "stdout",
          "text": [
            "Finding tests in NoName\n",
            "Trying:\n",
            "    round(fahrenheit_to_celsius(212), 2)\n",
            "Expecting:\n",
            "    100.0\n",
            "ok\n",
            "Trying:\n",
            "    round(fahrenheit_to_celsius(32), 2)\n",
            "Expecting:\n",
            "    0.0\n",
            "ok\n",
            "Trying:\n",
            "    round(fahrenheit_to_celsius(98.6), 2)\n",
            "Expecting:\n",
            "    37.0\n",
            "ok\n"
          ]
        }
      ],
      "source": [
        "import doctest\n",
        "doctest.run_docstring_examples(fahrenheit_to_celsius, globals(), verbose=True)"
      ]
    },
    {
      "cell_type": "markdown",
      "metadata": {
        "id": "UZRYc6-m5OQc"
      },
      "source": [
        "### 25.3 Computing Length of Stay\n",
        "\n",
        "For this problem, we have a collection of patient enounter data stored as a Python dictionary.  The `key` for the dictionary is the **encounter ID**, a code that starts with the letter `E` followed by four numbers.  The value associated with each encounter ID is another Python dictionary.  This \"inner\" dictionary holds three items: admit date, primary diagnosis, and discharge date.  See the example in the code below.\n",
        "\n",
        "You need to write a length of stay function that computes the length of stay, in whole days, between the admit date and discharge date.  However, if the diagnosis is \"Observation\" then the length of stay should always be returned as 0 regardless of the admit and discharge dates. Your function should should take three parameters: a start date, an end date, and a diagnosis.\n",
        "\n",
        "You will find it handy to refer to this example here on how to calculate the number of days between two dates: https://stackoverflow.com/questions/151199/how-to-calculate-number-of-days-between-two-given-dates"
      ]
    },
    {
      "cell_type": "code",
      "execution_count": 42,
      "metadata": {
        "id": "FuSuMDRe5OQc",
        "outputId": "0d8eb4da-c9b0-4139-be13-b80cbdb83a9c",
        "colab": {
          "base_uri": "https://localhost:8080/"
        }
      },
      "outputs": [
        {
          "output_type": "stream",
          "name": "stdout",
          "text": [
            "Finding tests in NoName\n",
            "Trying:\n",
            "    length_of_stay(date(2019, 1, 3), date(2019, 1, 8), \"COPD\")\n",
            "Expecting:\n",
            "    5\n",
            "ok\n",
            "Trying:\n",
            "    length_of_stay(date(2020, 1, 5), date(2020, 1, 8), \"Observation\")\n",
            "Expecting:\n",
            "    0\n",
            "ok\n"
          ]
        }
      ],
      "source": [
        "from datetime import date\n",
        "\n",
        "### BEGIN SOLUTION\n",
        "from datetime import date\n",
        "\n",
        "def length_of_stay(admit_date=date(2019, 7, 9), discharge_date=date(2019, 7, 13), diagnosis='Observation'):\n",
        "    \"\"\"\n",
        "    Calculate the length of stay in days for a patient.\n",
        "\n",
        "    :param admit_date: Date of admission.\n",
        "    :type admit_date: datetime.date\n",
        "    :param discharge_date: Date of discharge.\n",
        "    :type discharge_date: datetime.date\n",
        "    :param diagnosis: Diagnosis of the patient.\n",
        "    :type diagnosis: str\n",
        "    :return: Length of stay in days.\n",
        "    :rtype: int\n",
        "\n",
        "    Examples:\n",
        "    >>> length_of_stay(date(2019, 1, 3), date(2019, 1, 8), \"COPD\")\n",
        "    5\n",
        "\n",
        "    >>> length_of_stay(date(2020, 1, 5), date(2020, 1, 8), \"Observation\")\n",
        "    0\n",
        "    \"\"\"\n",
        "    if diagnosis != 'Observation':\n",
        "        length_of_stay = (discharge_date - admit_date).days\n",
        "    else:\n",
        "        length_of_stay = 0\n",
        "    return length_of_stay\n",
        "\n",
        "\n",
        "\n",
        "import doctest\n",
        "doctest.run_docstring_examples(length_of_stay, globals(), verbose=True)\n",
        "\n",
        "\n",
        "### END SOLUTION"
      ]
    },
    {
      "cell_type": "code",
      "execution_count": 43,
      "metadata": {
        "id": "erjOP58l5OQc"
      },
      "outputs": [],
      "source": [
        "assert length_of_stay(date(2019,1,3), date(2019,1,8), \"COPD\") == 5\n",
        "assert length_of_stay(date(2020,1,5), date(2020,1,8), \"Observation\") == 0"
      ]
    },
    {
      "cell_type": "code",
      "execution_count": 44,
      "metadata": {
        "id": "2A_gNdWt5OQc",
        "outputId": "6b7ab168-0fcd-43f4-df78-d9fe045376af",
        "colab": {
          "base_uri": "https://localhost:8080/"
        }
      },
      "outputs": [
        {
          "output_type": "stream",
          "name": "stdout",
          "text": [
            "Finding tests in NoName\n",
            "Trying:\n",
            "    length_of_stay(date(2019, 1, 3), date(2019, 1, 8), \"COPD\")\n",
            "Expecting:\n",
            "    5\n",
            "ok\n",
            "Trying:\n",
            "    length_of_stay(date(2020, 1, 5), date(2020, 1, 8), \"Observation\")\n",
            "Expecting:\n",
            "    0\n",
            "ok\n"
          ]
        }
      ],
      "source": [
        "import doctest\n",
        "doctest.run_docstring_examples(length_of_stay, globals(), verbose=True)"
      ]
    },
    {
      "cell_type": "code",
      "execution_count": 45,
      "metadata": {
        "id": "FXe44VBB5OQd",
        "outputId": "829061b2-af9f-4059-e1c3-a16820d1a59f",
        "colab": {
          "base_uri": "https://localhost:8080/"
        }
      },
      "outputs": [
        {
          "output_type": "stream",
          "name": "stdout",
          "text": [
            "5\n",
            "4\n",
            "1\n",
            "0\n",
            "0\n"
          ]
        }
      ],
      "source": [
        "encounters = {\n",
        "    \"E1234\": { \"admit\": date(2019,1,3), \"diagnosis\": \"COPD\", \"discharge\": date(2019,1,8) },\n",
        "    \"E8342\": { \"admit\": date(2019,1,5), \"diagnosis\": \"Hypertension\", \"discharge\": date(2019,1,9) },\n",
        "    \"E9231\": { \"admit\": date(2019,1,12), \"diagnosis\": \"Anxiety\", \"discharge\": date(2019,1,13) },\n",
        "    \"E8333\": { \"admit\": date(2019,1,15), \"diagnosis\": \"Observation\", \"discharge\": date(2019,1,16) },\n",
        "    \"E3342\": { \"admit\": date(2019,1,4), \"diagnosis\": \"Anxiety\", \"discharge\": date(2019,1,4)}\n",
        "}\n",
        "\n",
        "\n",
        "for encid, visit in encounters.items():\n",
        "    print(length_of_stay(visit['admit'],visit['discharge'],visit['diagnosis']))\n",
        "\n",
        "# Your output should be\n",
        "# 5\n",
        "# 4\n",
        "# 1\n",
        "# 0\n",
        "# 0"
      ]
    },
    {
      "cell_type": "markdown",
      "metadata": {
        "id": "0z6Lye7M5OQd"
      },
      "source": [
        "---\n",
        "---\n",
        "\n",
        "### 25.4 Average Length of Stay\n",
        "\n",
        "Create a function called `average_los` that returns the average of the LOS for the encounters in the provided dictionary. The encounters must be a dictionary that contains dictionaries that each contain at least an admit date and a discharge date.\n",
        "    \n",
        "If the length of stay of any individual encounter is 0, then it will not be counted toward the average."
      ]
    },
    {
      "cell_type": "code",
      "execution_count": 46,
      "metadata": {
        "id": "Yejw9mzn5OQd"
      },
      "outputs": [],
      "source": [
        "\n",
        "### BEGIN SOLUTION\n",
        "from datetime import date\n",
        "\n",
        "def calculate_average_length_of_stay(encounters):\n",
        "    \"\"\"\n",
        "    Calculate the average length of stay for a list of patient encounters.\n",
        "\n",
        "    :param encounters: Dictionary of patient encounters with admission and discharge dates.\n",
        "    :type encounters: dict\n",
        "    :return: Average length of stay in days.\n",
        "    :rtype: float\n",
        "\n",
        "    Examples:\n",
        "    >>> round(calculate_average_length_of_stay(encounters), 2)\n",
        "    3.33\n",
        "    \"\"\"\n",
        "    length_of_stays = []\n",
        "    for encounter_id, details in encounters.items():\n",
        "        if details['diagnosis'] != 'Observation':\n",
        "            length_of_stay = (details['discharge'] - details['admit']).days\n",
        "            if length_of_stay > 0:\n",
        "                length_of_stays.append(length_of_stay)\n",
        "\n",
        "    total_length_of_stay = sum(length_of_stays)\n",
        "    average_length_of_stay = total_length_of_stay / len(length_of_stays) if length_of_stays else 0\n",
        "\n",
        "    return average_length_of_stay\n",
        "\n",
        "\n",
        "# Test the function\n",
        "assert round(calculate_average_length_of_stay(encounters), 2) == 3.33\n",
        "\n",
        "\n",
        "\n",
        "### END SOLUTION"
      ]
    },
    {
      "cell_type": "code",
      "execution_count": 47,
      "metadata": {
        "id": "xGLnUWDk5OQd"
      },
      "outputs": [],
      "source": [
        "from datetime import date\n",
        "encounters = {\n",
        "    \"E1234\": { \"admit\": date(2019,1,3), \"diagnosis\": \"COPD\", \"discharge\": date(2019,1,8) },\n",
        "    \"E8342\": { \"admit\": date(2019,1,5), \"diagnosis\": \"Hypertension\", \"discharge\": date(2019,1,9) },\n",
        "    \"E9231\": { \"admit\": date(2019,1,12), \"diagnosis\": \"Anxiety\", \"discharge\": date(2019,1,13) },\n",
        "    \"E8333\": { \"admit\": date(2019,1,15), \"diagnosis\": \"Observation\", \"discharge\": date(2019,1,16) },\n",
        "    \"E3342\": { \"admit\": date(2019,1,4), \"diagnosis\": \"Anxiety\", \"discharge\": date(2019,1,4)}\n",
        "}\n",
        "\n",
        "assert(round(calculate_average_length_of_stay(encounters),2) == 3.33)"
      ]
    },
    {
      "cell_type": "code",
      "execution_count": 48,
      "metadata": {
        "id": "-nEqbMt45OQe",
        "outputId": "dac49c3b-bd25-44bc-cce2-d331b49d9d2b",
        "colab": {
          "base_uri": "https://localhost:8080/"
        }
      },
      "outputs": [
        {
          "output_type": "stream",
          "name": "stdout",
          "text": [
            "Finding tests in NoName\n",
            "Trying:\n",
            "    round(calculate_average_length_of_stay(encounters), 2)\n",
            "Expecting:\n",
            "    3.33\n",
            "ok\n"
          ]
        }
      ],
      "source": [
        "import doctest\n",
        "doctest.run_docstring_examples(calculate_average_length_of_stay, globals(), verbose=True)"
      ]
    },
    {
      "cell_type": "markdown",
      "metadata": {
        "id": "wYPiExCh5OQe"
      },
      "source": [
        "---\n",
        "\n",
        "### 25.5 Celsius to Farenheit\n",
        "\n",
        "Write your own function called `c_to_f` that converts degrees Celsius to degrees Farenheit.  Include in your solution a series of doc tests that can verify the conversion using inputs of 100, 0, and 37 degrees Celsius"
      ]
    },
    {
      "cell_type": "code",
      "execution_count": 49,
      "metadata": {
        "id": "4vziunvg5OQe"
      },
      "outputs": [],
      "source": [
        "### BEGIN SOLUTION\n",
        "\n",
        "def celsius_to_fahrenheit(celsius):\n",
        "    \"\"\"\n",
        "    Convert temperature from Celsius to Fahrenheit.\n",
        "\n",
        "    :param celsius: Temperature in Celsius.\n",
        "    :type celsius: float\n",
        "    :return: Temperature in Fahrenheit.\n",
        "    :rtype: float\n",
        "\n",
        "    Examples:\n",
        "    >>> celsius_to_fahrenheit(37)\n",
        "    98.6\n",
        "\n",
        "    >>> celsius_to_fahrenheit(0)\n",
        "    32.0\n",
        "\n",
        "    >>> celsius_to_fahrenheit(100)\n",
        "    212.0\n",
        "    \"\"\"\n",
        "    fahrenheit = (celsius * 9/5) + 32\n",
        "    return fahrenheit\n",
        "\n",
        "# Test cases\n",
        "assert celsius_to_fahrenheit(37) == 98.6\n",
        "assert celsius_to_fahrenheit(0) == 32.0\n",
        "assert celsius_to_fahrenheit(100) == 212.0\n",
        "\n",
        "\n",
        "### END SOLUTION"
      ]
    },
    {
      "cell_type": "code",
      "execution_count": 50,
      "metadata": {
        "id": "6bslyvno5OQe",
        "outputId": "d4c1f48c-84dc-4bb9-e5df-df9fb6c883b8",
        "colab": {
          "base_uri": "https://localhost:8080/"
        }
      },
      "outputs": [
        {
          "output_type": "stream",
          "name": "stdout",
          "text": [
            "Finding tests in NoName\n",
            "Trying:\n",
            "    celsius_to_fahrenheit(37)\n",
            "Expecting:\n",
            "    98.6\n",
            "ok\n",
            "Trying:\n",
            "    celsius_to_fahrenheit(0)\n",
            "Expecting:\n",
            "    32.0\n",
            "ok\n",
            "Trying:\n",
            "    celsius_to_fahrenheit(100)\n",
            "Expecting:\n",
            "    212.0\n",
            "ok\n"
          ]
        }
      ],
      "source": [
        "import doctest\n",
        "doctest.run_docstring_examples(celsius_to_fahrenheit, globals(), verbose=True)"
      ]
    },
    {
      "cell_type": "code",
      "execution_count": 50,
      "metadata": {
        "id": "MCh5250X5OQe"
      },
      "outputs": [],
      "source": []
    },
    {
      "cell_type": "markdown",
      "metadata": {
        "id": "ffeDex3p5OQe"
      },
      "source": [
        "---\n",
        "\n",
        "## Check your work above\n",
        "\n",
        "If you didn't get them all correct, take a few minutes to think through those that aren't correct.\n",
        "\n",
        "\n",
        "## Submitting Your Work\n",
        "\n",
        "In order to submit your work, you'll need to use the `git` command line program to **add** your homework file (this file) to your local repository, **commit** your changes to your local repository, and then **push** those changes up to github.com.  From there, I'll be able to **pull** the changes down and do my grading.  I'll provide some feedback, **commit** and **push** my comments back to you.  Next week, I'll show you how to **pull** down my comments.\n",
        "\n",
        "First run through everything one last time and submit your work:\n",
        "1. Use the `Kernel` -> `Restart Kernel and Run All Cells` menu option to run everything from top to bottom and stop here.\n",
        "2. Then open a new command line by clicking the `+` icon above the file list and chosing `Terminal`\n",
        "3. At the command line in the new Terminal, follow these steps:\n",
        "  1. Change directories to your project folder and the week03 subfolder (`cd <folder name>`)\n",
        "  2. Make sure your project folders are up to date with github.com (`git pull`)\n",
        "  3. Add the homework files for this week (`git add <file name>`)\n",
        "  4. Commit your changes (`git commit -a -m \"message\"`)\n",
        "  5. Push your changes (`git push`)\n",
        "  \n",
        "If anything fails along the way with this submission part of the process, let me know.  I'll help you troubleshoort."
      ]
    }
  ],
  "metadata": {
    "celltoolbar": "Create Assignment",
    "kernelspec": {
      "display_name": "Python 3",
      "language": "python",
      "name": "python3"
    },
    "language_info": {
      "codemirror_mode": {
        "name": "ipython",
        "version": 3
      },
      "file_extension": ".py",
      "mimetype": "text/x-python",
      "name": "python",
      "nbconvert_exporter": "python",
      "pygments_lexer": "ipython3",
      "version": "3.6.7"
    },
    "colab": {
      "provenance": []
    }
  },
  "nbformat": 4,
  "nbformat_minor": 0
}