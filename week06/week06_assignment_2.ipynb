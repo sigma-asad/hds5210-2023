{
  "cells": [
    {
      "cell_type": "markdown",
      "metadata": {
        "nbgrader": {
          "grade": false,
          "grade_id": "intro",
          "locked": true,
          "schema_version": 1,
          "solution": false
        },
        "id": "OK3seO8subK1"
      },
      "source": [
        "# Week 6 Exercises\n",
        "\n",
        "_McKinney 6.1_\n",
        "\n",
        "There are multiple ways to solve the problems below.  You can use any one of several approaches.  For example, you can read CSV files using Pandas or the csv module.  Your score won't depend on which modules you choose to use unless explicitly noted below, but your programming style will still matter."
      ]
    },
    {
      "cell_type": "markdown",
      "metadata": {
        "nbgrader": {
          "grade": false,
          "grade_id": "q1-description",
          "locked": true,
          "schema_version": 1,
          "solution": false
        },
        "id": "5YyGqV6subK2"
      },
      "source": [
        "### 30.1 List of Allergies\n",
        "\n",
        "In this GitHub repository, there is a file called `allergies.json` that contains a list of patient allergies.  You will need to download this [file from here](https://raw.githubusercontent.com/paulboal/hds5210-2023/main/week06/allergies.json) and then upload it into Google Colab to run these examples. It is taken from sample data provided by the EHR vendor, Epic, here: https://open.epic.com/Clinical/Allergy\n",
        "\n",
        "Take some time to look at the structure of the file.  You can open it directly in Jupyter by clicking the _Home_ icon, then the _from_instructor_ folder, and then the _data_ folder.\n",
        "\n",
        "Within the file, you'll see that it is a dictionary with many items in it.  One of those items is called `entry` and that item is a list of things.  You can tell that because the item name is immediately followed by an opening square bracket, signifying the start of a list.  It's line 11 of the file: `  \"entry\": [`\n",
        "\n",
        "Write a function named `allergy_count(json_file)` that takes as one parameter the name of the JSON file and returns an integer number of entries in that file.  Your function should open the file, read the json into a Python object, and return how many items there are in the list of `entry`s."
      ]
    },
    {
      "cell_type": "code",
      "execution_count": 47,
      "metadata": {
        "id": "AvMXYidOubK2"
      },
      "outputs": [],
      "source": [
        "import json\n",
        "ALLERGIES_FILE=\"allergies.json\""
      ]
    },
    {
      "cell_type": "code",
      "execution_count": 48,
      "metadata": {
        "nbgrader": {
          "grade": false,
          "grade_id": "q1-answer",
          "locked": false,
          "schema_version": 1,
          "solution": true
        },
        "id": "6SB4a6LWubK3",
        "outputId": "1400f8ac-2940-4a42-e4d1-57759196eff2",
        "colab": {
          "base_uri": "https://localhost:8080/"
        }
      },
      "outputs": [
        {
          "output_type": "stream",
          "name": "stdout",
          "text": [
            "4\n"
          ]
        }
      ],
      "source": [
        "# Put your solution here\n",
        "import json\n",
        "\n",
        "def count_entries(json_file):\n",
        "    try:\n",
        "        with open(json_file, 'r') as file:\n",
        "            data = json.load(file)  # Load the JSON content into a Python dictionary\n",
        "            entry_list = data.get(\"entry\", [])  # Get the \"entry\" list or an empty list if not found\n",
        "            return len(entry_list)  # Return the count of items in the \"entry\" list\n",
        "    except (FileNotFoundError, json.JSONDecodeError):\n",
        "        return 0  # Handle exceptions by returning 0\n",
        "\n",
        "ALLERGIES_FILE = \"allergies.json\"\n",
        "\n",
        "# Testing the function\n",
        "count = count_entries(ALLERGIES_FILE)\n",
        "print(count)  # This should print the number of items in the \"entry\" list or 0 if \"entry\" is not found\n",
        "\n",
        "# Validation assertions\n",
        "assert isinstance(count, int)\n",
        "assert count == 4\n",
        "\n",
        "\n"
      ]
    },
    {
      "cell_type": "code",
      "execution_count": 49,
      "metadata": {
        "id": "9XuFXbjpubK3",
        "outputId": "d8a687cd-bf9b-4508-aeaa-e811f57ecccc",
        "colab": {
          "base_uri": "https://localhost:8080/"
        }
      },
      "outputs": [
        {
          "output_type": "execute_result",
          "data": {
            "text/plain": [
              "4"
            ]
          },
          "metadata": {},
          "execution_count": 49
        }
      ],
      "source": [
        "allergy_count(ALLERGIES_FILE)"
      ]
    },
    {
      "cell_type": "code",
      "execution_count": 50,
      "metadata": {
        "nbgrader": {
          "grade": true,
          "grade_id": "q1-tests",
          "locked": true,
          "points": 5,
          "schema_version": 1,
          "solution": false
        },
        "id": "SveDfPOkubK3"
      },
      "outputs": [],
      "source": [
        "assert type(allergy_count(ALLERGIES_FILE)) == int\n",
        "assert allergy_count(ALLERGIES_FILE) == 4"
      ]
    },
    {
      "cell_type": "markdown",
      "metadata": {
        "id": "ScTDG9TtubK3"
      },
      "source": [
        "### 30.2 Number of Patients\n",
        "\n",
        "If you dig a little bit deaper into this list of allergies, you'll see that each result has a patient associated with it.  Create a funcation called `patient_count(json_file)` that will count how many unique patients we have in this JSON structure.  "
      ]
    },
    {
      "cell_type": "code",
      "execution_count": 51,
      "metadata": {
        "id": "rvOn2COEubK3",
        "outputId": "028e68cc-a02a-4c1c-d530-0ec71d382656",
        "colab": {
          "base_uri": "https://localhost:8080/"
        }
      },
      "outputs": [
        {
          "output_type": "stream",
          "name": "stdout",
          "text": [
            "2\n"
          ]
        }
      ],
      "source": [
        "# Put your solution here\n",
        "import json\n",
        "\n",
        "def patient_count(json_file):\n",
        "    with open(json_file, 'r') as file:\n",
        "        data = json.load(file)\n",
        "\n",
        "        unique_patients = set()\n",
        "\n",
        "        for entry in data.get(\"entry\", []):\n",
        "            resource = entry.get(\"resource\", {})\n",
        "            patient_display = resource.get(\"patient\", {}).get(\"display\", None)\n",
        "\n",
        "            if patient_display is not None:\n",
        "                unique_patients.add(patient_display)\n",
        "\n",
        "        return len(unique_patients)  # Return the count of distinct patient IDs\n",
        "\n",
        "ALLERGIES_FILE = \"allergies.json\"\n",
        "\n",
        "# Testing the function\n",
        "distinct_patient_count = patient_count(ALLERGIES_FILE)\n",
        "print(distinct_patient_count)\n",
        "\n",
        "# Validation assertions\n",
        "assert isinstance(distinct_patient_count, int)\n",
        "assert distinct_patient_count == 2\n",
        "\n"
      ]
    },
    {
      "cell_type": "code",
      "execution_count": 52,
      "metadata": {
        "id": "b-w_gSSqubK3",
        "outputId": "2e69dc10-5b8f-4b3d-e69b-a52e4d373c16",
        "colab": {
          "base_uri": "https://localhost:8080/"
        }
      },
      "outputs": [
        {
          "output_type": "execute_result",
          "data": {
            "text/plain": [
              "2"
            ]
          },
          "metadata": {},
          "execution_count": 52
        }
      ],
      "source": [
        "patient_count(ALLERGIES_FILE)"
      ]
    },
    {
      "cell_type": "code",
      "execution_count": 53,
      "metadata": {
        "id": "_miG0IagubK3"
      },
      "outputs": [],
      "source": [
        "assert type(patient_count(ALLERGIES_FILE)) == int\n",
        "assert patient_count(ALLERGIES_FILE) == 2"
      ]
    },
    {
      "cell_type": "markdown",
      "metadata": {
        "id": "7Nq2Dyy7ubK3"
      },
      "source": [
        "### 30.3 How Many Allergies per Patient\n",
        "\n",
        "Although each entry is a separate allergy, several of them are for the same patient.  Write a function called `allergy_per_patient(json_file)` that counts up how many allergies each patient has.\n"
      ]
    },
    {
      "cell_type": "code",
      "execution_count": 54,
      "metadata": {
        "id": "wcmOY5SeubK3",
        "outputId": "8ec13eae-7a66-4fb9-fde2-0df02589ccf5",
        "colab": {
          "base_uri": "https://localhost:8080/"
        }
      },
      "outputs": [
        {
          "output_type": "stream",
          "name": "stdout",
          "text": [
            "{'Jason Argonaut': 3, 'Paul Boal': 1}\n"
          ]
        }
      ],
      "source": [
        "# Put your solution here\n",
        "import json\n",
        "from collections import defaultdict\n",
        "\n",
        "def allergy_per_patient(json_file):\n",
        "    with open(json_file, 'r') as file:\n",
        "        data = json.load(file)\n",
        "\n",
        "        patient_allergy_counts = defaultdict(int)\n",
        "\n",
        "        for entry in data.get(\"entry\", []):\n",
        "            resource = entry.get(\"resource\", {})\n",
        "            patient_display = resource.get(\"patient\", {}).get(\"display\", None)\n",
        "\n",
        "            if patient_display is not None:\n",
        "                patient_allergy_counts[patient_display] += 1\n",
        "\n",
        "        # Convert the defaultdict to a regular dictionary\n",
        "        return dict(patient_allergy_counts)\n",
        "\n",
        "ALLERGIES_FILE = \"allergies.json\"\n",
        "\n",
        "# Testing the function\n",
        "patient_allergy_counts = allergy_per_patient(ALLERGIES_FILE)\n",
        "print(patient_allergy_counts)\n",
        "\n",
        "# Validation assertions\n",
        "assert isinstance(patient_allergy_counts, dict)\n",
        "assert patient_allergy_counts == {'Paul Boal': 1, 'Jason Argonaut': 3}\n",
        "\n"
      ]
    },
    {
      "cell_type": "code",
      "execution_count": 55,
      "metadata": {
        "id": "ZYdDj9KfubK3",
        "outputId": "2f98c3e0-cecb-4665-ae41-41513e0a9f3e",
        "colab": {
          "base_uri": "https://localhost:8080/"
        }
      },
      "outputs": [
        {
          "output_type": "execute_result",
          "data": {
            "text/plain": [
              "{'Jason Argonaut': 3, 'Paul Boal': 1}"
            ]
          },
          "metadata": {},
          "execution_count": 55
        }
      ],
      "source": [
        "allergy_per_patient(ALLERGIES_FILE)"
      ]
    },
    {
      "cell_type": "code",
      "execution_count": 56,
      "metadata": {
        "id": "koK9Xl1ZubK3"
      },
      "outputs": [],
      "source": [
        "assert type(allergy_per_patient(ALLERGIES_FILE)) == dict\n",
        "assert allergy_per_patient(ALLERGIES_FILE) == {'Paul Boal': 1, 'Jason Argonaut': 3}"
      ]
    },
    {
      "cell_type": "markdown",
      "metadata": {
        "nbgrader": {
          "grade": false,
          "grade_id": "q2-question",
          "locked": true,
          "schema_version": 1,
          "solution": false
        },
        "id": "A-MlrFA8ubK3"
      },
      "source": [
        "### 30.4 Patient Allergies and Reaction\n",
        "\n",
        "You'll see in the file that each of the items in the `entry` list have several other attributes including a patient name, substance text representation, and a reaction manifestation.  Create a function named `allergy_list(json_file)` that will create an output list that has patient name, allergy, and reaction for each `entry`.  The actual result you should get will be:\n",
        "\n",
        "```python\n",
        "[['Jason Argonaut', 'PENICILLIN G', 'Hives'],\n",
        " ['Paul Boal', 'PENICILLIN G', 'Bruising'],\n",
        " ['Jason Argonaut', 'SHELLFISH-DERIVED PRODUCTS', 'Itching'],\n",
        " ['Jason Argonaut', 'STRAWBERRY', 'Anaphylaxis']]\n",
        "```\n",
        "\n",
        "You'll notice that the reaction and the manifestation of that action are lists.  You only need to capture the first reaction and the first manifestation of the action.  That is, if there is a list of things, just output the first one."
      ]
    },
    {
      "cell_type": "code",
      "execution_count": 57,
      "metadata": {
        "nbgrader": {
          "grade": false,
          "grade_id": "q2-answer",
          "locked": false,
          "schema_version": 1,
          "solution": true
        },
        "id": "NzQXIR6zubK3",
        "outputId": "1c6707c6-8596-4a98-867b-04a0c6448466",
        "colab": {
          "base_uri": "https://localhost:8080/"
        }
      },
      "outputs": [
        {
          "output_type": "stream",
          "name": "stdout",
          "text": [
            "[['Jason Argonaut', 'PENICILLIN G', 'Hives'], ['Jason Argonaut', 'SHELLFISH-DERIVED PRODUCTS', 'Itching'], ['Jason Argonaut', 'STRAWBERRY', 'Anaphylaxis'], ['Paul Boal', 'PENICILLIN G', 'Bruising']]\n"
          ]
        }
      ],
      "source": [
        "# Put your solution here\n",
        "import json\n",
        "\n",
        "def allergy_list(json_file):\n",
        "    with open(json_file, 'r') as file:\n",
        "        data = json.load(file)\n",
        "\n",
        "        results = []\n",
        "\n",
        "        for entry in data.get(\"entry\", []):\n",
        "            resource = entry.get(\"resource\", {})\n",
        "            patient = resource.get(\"patient\", {})\n",
        "            substance = resource.get(\"substance\", {})\n",
        "            reaction = resource.get(\"reaction\", [{}])[0].get(\"manifestation\", [{}])[0]\n",
        "\n",
        "            patient_display = patient.get(\"display\", None)\n",
        "            substance_text = substance.get(\"text\", None)\n",
        "            reaction_text = reaction.get(\"text\", None)\n",
        "\n",
        "            if all((patient_display, substance_text, reaction_text)):\n",
        "                results.append([patient_display, substance_text, reaction_text])\n",
        "\n",
        "        return results\n",
        "\n",
        "ALLERGIES_FILE = \"allergies.json\"\n",
        "\n",
        "# Testing the function\n",
        "print(allergy_list(ALLERGIES_FILE))\n",
        "\n",
        "# Given assertions for further validation\n",
        "assert allergy_list(ALLERGIES_FILE) == [['Jason Argonaut', 'PENICILLIN G', 'Hives'],\n",
        " ['Jason Argonaut', 'SHELLFISH-DERIVED PRODUCTS', 'Itching'],\n",
        " ['Jason Argonaut', 'STRAWBERRY', 'Anaphylaxis'],\n",
        " ['Paul Boal', 'PENICILLIN G', 'Bruising']]\n",
        "\n"
      ]
    },
    {
      "cell_type": "code",
      "execution_count": 58,
      "metadata": {
        "id": "BN81lqrQubK3",
        "outputId": "a5bb5464-c859-4242-d7b1-88185f92a158",
        "colab": {
          "base_uri": "https://localhost:8080/"
        }
      },
      "outputs": [
        {
          "output_type": "execute_result",
          "data": {
            "text/plain": [
              "[['Jason Argonaut', 'PENICILLIN G', 'Hives'],\n",
              " ['Jason Argonaut', 'SHELLFISH-DERIVED PRODUCTS', 'Itching'],\n",
              " ['Jason Argonaut', 'STRAWBERRY', 'Anaphylaxis'],\n",
              " ['Paul Boal', 'PENICILLIN G', 'Bruising']]"
            ]
          },
          "metadata": {},
          "execution_count": 58
        }
      ],
      "source": [
        "allergy_list(ALLERGIES_FILE)"
      ]
    },
    {
      "cell_type": "code",
      "execution_count": 59,
      "metadata": {
        "nbgrader": {
          "grade": true,
          "grade_id": "q2-tests",
          "locked": true,
          "points": 10,
          "schema_version": 1,
          "solution": false
        },
        "id": "wNVtVD6bubK3"
      },
      "outputs": [],
      "source": [
        "assert allergy_list(ALLERGIES_FILE) == [['Jason Argonaut', 'PENICILLIN G', 'Hives'],\n",
        " ['Jason Argonaut', 'SHELLFISH-DERIVED PRODUCTS', 'Itching'],\n",
        " ['Jason Argonaut', 'STRAWBERRY', 'Anaphylaxis'],\n",
        " ['Paul Boal', 'PENICILLIN G', 'Bruising']]\n"
      ]
    },
    {
      "cell_type": "markdown",
      "metadata": {
        "nbgrader": {
          "grade": false,
          "grade_id": "q3-question",
          "locked": true,
          "schema_version": 1,
          "solution": false
        },
        "id": "CLnyfLVqubK3"
      },
      "source": [
        "### 30.5 Allergy Reaction\n",
        "\n",
        "Write a function called `allergy_reaction(json_file,patient,substance)` that takes three parameter and returns the reaction that will happen if the patient takes the specified substance.  You can solve this, in part, by calling your `allergy_list` function inside your new `allergy_reaction` function.\n",
        "\n",
        "If the substance is not found in the allergy list, the function should return None."
      ]
    },
    {
      "cell_type": "code",
      "execution_count": 60,
      "metadata": {
        "nbgrader": {
          "grade": false,
          "grade_id": "q3-answer",
          "locked": false,
          "schema_version": 1,
          "solution": true
        },
        "id": "daVnGX_8ubK4",
        "outputId": "e3e78e52-6b98-48db-8e67-6c8cfa74d071",
        "colab": {
          "base_uri": "https://localhost:8080/"
        }
      },
      "outputs": [
        {
          "output_type": "stream",
          "name": "stdout",
          "text": [
            "Hives\n"
          ]
        }
      ],
      "source": [
        "# Put your solution here\n",
        "import json\n",
        "\n",
        "def allergy_reaction(json_file, patient, substance):\n",
        "    with open(json_file, 'r') as file:\n",
        "        data = json.load(file)\n",
        "\n",
        "        for entry in data.get(\"entry\", []):\n",
        "            resource = entry.get(\"resource\", {})\n",
        "            patient_display = resource.get(\"patient\", {}).get(\"display\", None)\n",
        "            substance_text = resource.get(\"substance\", {}).get(\"text\", None)\n",
        "\n",
        "            reaction_text = None\n",
        "            reaction = resource.get(\"reaction\", [])\n",
        "\n",
        "            if reaction:\n",
        "                manifestation = reaction[0].get(\"manifestation\", [{}])\n",
        "                if manifestation:\n",
        "                    reaction_text = manifestation[0].get(\"text\", None)\n",
        "\n",
        "            if all((patient_display, substance_text, reaction_text)):\n",
        "                if patient_display == patient and substance_text == substance:\n",
        "                    return reaction_text  # Return the reaction\n",
        "\n",
        "    return None  # Return None if no match is found\n",
        "\n",
        "ALLERGIES_FILE = \"allergies.json\"\n",
        "\n",
        "# Testing the function\n",
        "print(allergy_reaction(ALLERGIES_FILE, 'Jason Argonaut', 'PENICILLIN G'))\n",
        "\n",
        "# Given assertions for further validation\n",
        "assert allergy_reaction(ALLERGIES_FILE, 'Jason Argonaut', 'PENICILLIN G') == 'Hives'\n",
        "assert allergy_reaction(ALLERGIES_FILE, 'Jason Argonaut', 'SHELLFISH-DERIVED PRODUCTS') == 'Itching'\n",
        "assert allergy_reaction(ALLERGIES_FILE, 'Jason Argonaut', 'STRAWBERRY') == 'Anaphylaxis'\n",
        "assert allergy_reaction(ALLERGIES_FILE, 'Jason Argonaut', 'PENICILLIN') is None\n",
        "assert allergy_reaction(ALLERGIES_FILE, 'Paul Boal', 'PENICILLIN G') == 'Bruising'\n",
        "\n",
        "\n"
      ]
    },
    {
      "cell_type": "code",
      "execution_count": 61,
      "metadata": {
        "id": "eF0G4x-dubK4",
        "outputId": "98d923cc-59d5-4f90-fa26-a5f615a9efe8",
        "colab": {
          "base_uri": "https://localhost:8080/",
          "height": 35
        }
      },
      "outputs": [
        {
          "output_type": "execute_result",
          "data": {
            "text/plain": [
              "'Hives'"
            ],
            "application/vnd.google.colaboratory.intrinsic+json": {
              "type": "string"
            }
          },
          "metadata": {},
          "execution_count": 61
        }
      ],
      "source": [
        "allergy_reaction(ALLERGIES_FILE, 'Jason Argonaut', 'PENICILLIN G')"
      ]
    },
    {
      "cell_type": "code",
      "execution_count": 62,
      "metadata": {
        "nbgrader": {
          "grade": true,
          "grade_id": "q3-tests",
          "locked": true,
          "points": 5,
          "schema_version": 1,
          "solution": false
        },
        "id": "k9L3HS99ubK4"
      },
      "outputs": [],
      "source": [
        "assert allergy_reaction(ALLERGIES_FILE, 'Jason Argonaut', 'PENICILLIN G') == 'Hives'\n",
        "assert allergy_reaction(ALLERGIES_FILE, 'Jason Argonaut', 'SHELLFISH-DERIVED PRODUCTS') == 'Itching'\n",
        "assert allergy_reaction(ALLERGIES_FILE, 'Jason Argonaut', 'STRAWBERRY') == 'Anaphylaxis'\n",
        "assert allergy_reaction(ALLERGIES_FILE, 'Jason Argonaut', 'PENICILLIN') == None\n",
        "assert allergy_reaction(ALLERGIES_FILE, 'Paul Boal', 'PENICILLIN G') == 'Bruising'"
      ]
    },
    {
      "cell_type": "markdown",
      "metadata": {
        "id": "FWonaSEBubK4"
      },
      "source": [
        "---\n",
        "\n",
        "## Check your work above\n",
        "\n",
        "If you didn't get them all correct, take a few minutes to think through those that aren't correct.\n",
        "\n",
        "\n",
        "## Submitting Your Work\n",
        "\n",
        "In order to submit your work, you'll need to save this notebook file back to GitHub.  To do that in Google Colab:\n",
        "1. File -> Save a Copy in GitHub\n",
        "2. Make sure your HDS5210 repository is selected\n",
        "3. Make sure the file name includes the week number like this: `week06/week06_assignment_2.ipynb`\n",
        "4. Add a commit message that means something\n",
        "\n",
        "**Be sure week names are lowercase and use a two digit week number!!**\n",
        "\n",
        "**Be sure you use the same file name provided by the instructor!!**\n",
        "\n"
      ]
    }
  ],
  "metadata": {
    "celltoolbar": "Create Assignment",
    "kernelspec": {
      "display_name": "Python 3",
      "language": "python",
      "name": "python3"
    },
    "language_info": {
      "codemirror_mode": {
        "name": "ipython",
        "version": 3
      },
      "file_extension": ".py",
      "mimetype": "text/x-python",
      "name": "python",
      "nbconvert_exporter": "python",
      "pygments_lexer": "ipython3",
      "version": "3.9.16"
    },
    "colab": {
      "provenance": []
    }
  },
  "nbformat": 4,
  "nbformat_minor": 0
}