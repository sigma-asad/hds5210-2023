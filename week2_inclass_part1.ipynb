{
  "nbformat": 4,
  "nbformat_minor": 0,
  "metadata": {
    "colab": {
      "provenance": [],
      "authorship_tag": "ABX9TyNdIWVhzB9ZfU98vexKGG2m",
      "include_colab_link": true
    },
    "kernelspec": {
      "name": "python3",
      "display_name": "Python 3"
    },
    "language_info": {
      "name": "python"
    }
  },
  "cells": [
    {
      "cell_type": "markdown",
      "metadata": {
        "id": "view-in-github",
        "colab_type": "text"
      },
      "source": [
        "<a href=\"https://colab.research.google.com/github/sigma-asad/hds5210-2023/blob/main/week2_inclass_part1.ipynb\" target=\"_parent\"><img src=\"https://colab.research.google.com/assets/colab-badge.svg\" alt=\"Open In Colab\"/></a>"
      ]
    },
    {
      "cell_type": "code",
      "execution_count": 6,
      "metadata": {
        "colab": {
          "base_uri": "https://localhost:8080/",
          "height": 140
        },
        "id": "HN5qzpljwKKH",
        "outputId": "d71db517-dab8-427f-d383-bcb8eceb3ed0"
      },
      "outputs": [
        {
          "output_type": "error",
          "ename": "SyntaxError",
          "evalue": "ignored",
          "traceback": [
            "\u001b[0;36m  File \u001b[0;32m\"<ipython-input-6-6135c6da936c>\"\u001b[0;36m, line \u001b[0;32m1\u001b[0m\n\u001b[0;31m    print(hello world)\u001b[0m\n\u001b[0m          ^\u001b[0m\n\u001b[0;31mSyntaxError\u001b[0m\u001b[0;31m:\u001b[0m invalid syntax. Perhaps you forgot a comma?\n"
          ]
        }
      ],
      "source": [
        "print(hello world)"
      ]
    },
    {
      "cell_type": "code",
      "source": [
        "print('hello world')"
      ],
      "metadata": {
        "colab": {
          "base_uri": "https://localhost:8080/"
        },
        "id": "ZyrMggDhwpbq",
        "outputId": "8de78879-05ab-4871-a91a-54652376abf5"
      },
      "execution_count": 7,
      "outputs": [
        {
          "output_type": "stream",
          "name": "stdout",
          "text": [
            "hello world\n"
          ]
        }
      ]
    },
    {
      "cell_type": "code",
      "source": [
        "print(weight_loss)"
      ],
      "metadata": {
        "colab": {
          "base_uri": "https://localhost:8080/"
        },
        "id": "U-yt0vDww0eb",
        "outputId": "cdbda2db-fc45-4def-a954-a9228d986e32"
      },
      "execution_count": 15,
      "outputs": [
        {
          "output_type": "stream",
          "name": "stdout",
          "text": [
            "130\n"
          ]
        }
      ]
    },
    {
      "cell_type": "code",
      "source": [
        "9-5"
      ],
      "metadata": {
        "id": "aStbVLth1Dso",
        "outputId": "955690d5-321e-497e-801e-7d9634af9892",
        "colab": {
          "base_uri": "https://localhost:8080/"
        }
      },
      "execution_count": 9,
      "outputs": [
        {
          "output_type": "execute_result",
          "data": {
            "text/plain": [
              "4"
            ]
          },
          "metadata": {},
          "execution_count": 9
        }
      ]
    },
    {
      "cell_type": "code",
      "source": [
        "weight_loss=75 + 55"
      ],
      "metadata": {
        "id": "s61m6Vf81PJG"
      },
      "execution_count": 10,
      "outputs": []
    },
    {
      "cell_type": "code",
      "source": [
        "weight_loss\n",
        "print(weight_loss)"
      ],
      "metadata": {
        "id": "KfXKHstN1lfH",
        "outputId": "283aae4c-a9d0-40ef-d363-0266789c81ac",
        "colab": {
          "base_uri": "https://localhost:8080/"
        }
      },
      "execution_count": 17,
      "outputs": [
        {
          "output_type": "stream",
          "name": "stdout",
          "text": [
            "130\n"
          ]
        }
      ]
    },
    {
      "cell_type": "code",
      "source": [
        "print(weight_loss)\n",
        "print('weight_loss')"
      ],
      "metadata": {
        "id": "k878py_M3gHs",
        "outputId": "16278b64-9a62-4d0c-bf7e-0bcbe6fc7d52",
        "colab": {
          "base_uri": "https://localhost:8080/"
        }
      },
      "execution_count": 20,
      "outputs": [
        {
          "output_type": "stream",
          "name": "stdout",
          "text": [
            "130\n",
            "weight_loss\n"
          ]
        }
      ]
    },
    {
      "cell_type": "code",
      "source": [
        "print ('weight_loss')"
      ],
      "metadata": {
        "id": "z9RoYjyw1qbM",
        "outputId": "d8f63f71-b5d0-4f08-aa92-436fb85f3ce7",
        "colab": {
          "base_uri": "https://localhost:8080/"
        }
      },
      "execution_count": 14,
      "outputs": [
        {
          "output_type": "stream",
          "name": "stdout",
          "text": [
            "weight_loss\n"
          ]
        }
      ]
    },
    {
      "cell_type": "code",
      "source": [
        "name='asad'\n",
        "first='asad'\n",
        "last='khan'\n",
        "\n",
        "first*4"
      ],
      "metadata": {
        "id": "5oTwdZhWIk2c",
        "outputId": "6b97d5e2-f0af-4142-fb3a-65472c3e6aec",
        "colab": {
          "base_uri": "https://localhost:8080/",
          "height": 35
        }
      },
      "execution_count": 25,
      "outputs": [
        {
          "output_type": "execute_result",
          "data": {
            "text/plain": [
              "'asadasadasadasad'"
            ],
            "application/vnd.google.colaboratory.intrinsic+json": {
              "type": "string"
            }
          },
          "metadata": {},
          "execution_count": 25
        }
      ]
    },
    {
      "cell_type": "code",
      "source": [
        "first+last*4"
      ],
      "metadata": {
        "id": "E78twZq7JFx9",
        "outputId": "002dcfd1-f1f0-4c4e-e338-aac8f22ac9ce",
        "colab": {
          "base_uri": "https://localhost:8080/",
          "height": 35
        }
      },
      "execution_count": 26,
      "outputs": [
        {
          "output_type": "execute_result",
          "data": {
            "text/plain": [
              "'asadkhankhankhankhan'"
            ],
            "application/vnd.google.colaboratory.intrinsic+json": {
              "type": "string"
            }
          },
          "metadata": {},
          "execution_count": 26
        }
      ]
    },
    {
      "cell_type": "code",
      "source": [
        "first+last*0*4"
      ],
      "metadata": {
        "id": "W6l-_x_xJLYr",
        "outputId": "84c7d1f8-6ff5-497c-f411-19f3fb019b83",
        "colab": {
          "base_uri": "https://localhost:8080/",
          "height": 35
        }
      },
      "execution_count": 29,
      "outputs": [
        {
          "output_type": "execute_result",
          "data": {
            "text/plain": [
              "'asad'"
            ],
            "application/vnd.google.colaboratory.intrinsic+json": {
              "type": "string"
            }
          },
          "metadata": {},
          "execution_count": 29
        }
      ]
    },
    {
      "cell_type": "code",
      "source": [],
      "metadata": {
        "id": "uwJydR4HJWRd"
      },
      "execution_count": null,
      "outputs": []
    }
  ]
}