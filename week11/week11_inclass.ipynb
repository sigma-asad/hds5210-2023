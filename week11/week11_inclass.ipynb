{
  "cells": [
    {
      "cell_type": "markdown",
      "metadata": {
        "id": "view-in-github",
        "colab_type": "text"
      },
      "source": [
        "<a href=\"https://colab.research.google.com/github/sigma-asad/hds5210-2023/blob/main/week11/week11_inclass.ipynb\" target=\"_parent\"><img src=\"https://colab.research.google.com/assets/colab-badge.svg\" alt=\"Open In Colab\"/></a>"
      ]
    },
    {
      "cell_type": "markdown",
      "metadata": {
        "id": "hUskxuM0nfXI"
      },
      "source": [
        "# Week 11 In-Class Challenge\n",
        "\n",
        "This week, we are doing an in-class exercise.  This will be worth 5 extra credit points for each team that creates a successful solution that follows the programming guidelines we've established this semester.  All the requirements for this programming challenge are described below.  If you complete them all successfully, you will receive 5 points.  If you do not, you will receive 0 points.\n",
        "\n",
        "Work as a group.  You will all receive the same number of points.\n",
        "\n",
        "## Requirements\n",
        "1. Your code must be a function named `week11()` that takes no parameters\n",
        "2. Your `week11()` function must read this CSV from the internet and use it as input: https://hds5210-data.s3.amazonaws.com/Section111ValidICD10-Jan2024.csv\n",
        "  * This file has three columns: CODE, SHORT DESCRIPTION, LONG DESCRIPTION, and NF EXCL\n",
        "  * The NF EXCL indicates that this code is excluded from a \"no fault\" list related to workers compensation insurance claims\n",
        "3. Your `week11()` function must use Pandas functions to generate new columns and filter the dataframe using the following rules\n",
        "   * Create a new column called \"CODE TYPE\" that contains only the first character of the CODE column. For example if CODE=\"A001\" then CODE TYPE=\"A\"\n",
        "   * Create a new column called \"CODE NUM\" that contains only the numeric part of the CODE column and make it numeric. For example if CODE=\"A001\" then CODE NUM=1\n",
        "   * Some CODE NUM portions cannot be converted directly because the have an \"X\" in them.  Convert that \"X\" to a \".\" and then conver the CODE NUM to a numeric value.  For example if CODE=\"E1037X1\" then CODE NUM=1037.1\n",
        "   * Filter your results to only include those rows where NF EXCL=\"Y\"\n",
        "   * Sort your results in ascending order by CODE NUM and then by CODE TYPE\n",
        "4. Use the \"checker\" in the last cell to confirm that your results are correct.  If the checker gives any errors, you will receive no credit.\n",
        "\n",
        "\n",
        "## Submitting\n",
        "In Canvas, you will find an assignment called Week 11 In Class Group Extra Credit.  It may be at this link: https://canvas.slu.edu/courses/42884/assignments/362720\n",
        "\n",
        "Submit the URL pointing to the file in GitHub you want me to review for your group submission.  Your URL should look something like this: https://github.com/paulboal/hds5210-2023/blob/main/week11/week11_inclass.ipynb\n",
        "\n",
        "\n",
        "## Scoring Rubric\n",
        "If your code passes my checker included at the bottom of this page, each person on your team will earn 5 points.  If you code does not pass my checker, you will earn 0 points. This is \"all or nothing\" extra credit.\n",
        "\n",
        "---"
      ]
    },
    {
      "cell_type": "code",
      "execution_count": 22,
      "metadata": {
        "id": "tMQdSJs1nfXK"
      },
      "outputs": [],
      "source": [
        "# I've provide you code here to start with.\n",
        "\n",
        "import pandas as pd\n",
        "\n",
        "def week11():\n",
        "    \"\"\"() -> pd.DataFrame\n",
        "\n",
        "    This function will process the file named in step 2 of the instructions above\n",
        "    using the rules in step 3 above.  It will return a dataframe that contains\n",
        "    the filtered, sorted, and enhanced results.\n",
        "\n",
        "    For my tests, I will validate the shape to start with.\n",
        "    If I have more time, I can figure out how to write tests for the other requirements.\n",
        "\n",
        "    >>> week11().shape\n",
        "    (1090, 6)\n",
        "    \"\"\"\n",
        "    hospitals = pd.read_csv('https://hds5210-data.s3.amazonaws.com/Section111ValidICD10-Jan2024.csv')\n",
        "\n",
        "import pandas as pd\n",
        "\n",
        "def week11():\n",
        "    # Read the CSV file from the URL\n",
        "    url = \"https://hds5210-data.s3.amazonaws.com/Section111ValidICD10-Jan2024.csv\"\n",
        "    df = pd.read_csv(url)\n",
        "\n",
        "    df[\"CODE TYPE\"] = df[\"CODE\"].str[0]\n",
        "\n",
        "    df[\"CODE NUM\"] = df[\"CODE\"].str.extract(r'(\\d+\\.?\\d*)').replace('X', '.', regex=True).astype(float)\n",
        "\n",
        "    df = df[df[\"NF EXCL\"] == \"Y\"]\n",
        "\n",
        "    df = df.sort_values(by=[\"CODE TYPE\", \"CODE NUM\"])\n",
        "\n",
        "    df = df.reset_index(drop=True)\n",
        "\n",
        "    return df\n",
        "\n"
      ]
    },
    {
      "cell_type": "code",
      "source": [
        "result = week11()\n",
        "print(result)"
      ],
      "metadata": {
        "id": "AhuLSjbUn8ZJ",
        "outputId": "00c22f3c-7cb9-44be-baef-333d5d64272b",
        "colab": {
          "base_uri": "https://localhost:8080/"
        }
      },
      "execution_count": 23,
      "outputs": [
        {
          "output_type": "stream",
          "name": "stdout",
          "text": [
            "       CODE                        SHORT DESCRIPTION  \\\n",
            "0     A7982        Anaplasmosis [A. phagocytophilum]   \n",
            "1      B373          Candidiasis of vulva and vagina   \n",
            "2     B3731    Acute candidiasis of vulva and vagina   \n",
            "3     B3732  Chronic candidiasis of vulva and vagina   \n",
            "4      C563  Malignant neoplasm of bilateral ovaries   \n",
            "...     ...                                      ...   \n",
            "1093  Y9382          Activity, spectator at an event   \n",
            "1094  Y9383    Activity, rough housing and horseplay   \n",
            "1095  Y9384                       Activity, sleeping   \n",
            "1096  Y9385                   Activity, choking game   \n",
            "1097  Y9389                Activity, other specified   \n",
            "\n",
            "                             LONG DESCRIPTION NF EXCL CODE TYPE  CODE NUM  \n",
            "0           Anaplasmosis [A. phagocytophilum]       Y         A    7982.0  \n",
            "1             Candidiasis of vulva and vagina       Y         B     373.0  \n",
            "2       Acute candisiasis of vulva and vagina       Y         B    3731.0  \n",
            "3     Chronic candidiasis of vulva and vagina       Y         B    3732.0  \n",
            "4     Malignant neoplasm of bilateral ovaries       Y         C     563.0  \n",
            "...                                       ...     ...       ...       ...  \n",
            "1093          Activity, spectator at an event       Y         Y    9382.0  \n",
            "1094    Activity, rough housing and horseplay       Y         Y    9383.0  \n",
            "1095                       Activity, sleeping       Y         Y    9384.0  \n",
            "1096                   Activity, choking game       Y         Y    9385.0  \n",
            "1097                Activity, other specified       Y         Y    9389.0  \n",
            "\n",
            "[1098 rows x 6 columns]\n"
          ]
        }
      ]
    },
    {
      "cell_type": "markdown",
      "metadata": {
        "id": "j29x1CjWnfXL"
      },
      "source": [
        "---\n",
        "\n",
        "## You can run your doctests this way"
      ]
    },
    {
      "cell_type": "code",
      "execution_count": 24,
      "metadata": {
        "id": "tSihrtWJnfXL",
        "outputId": "7ea66e60-bd1b-4c47-dfb8-9190232d159e",
        "colab": {
          "base_uri": "https://localhost:8080/"
        }
      },
      "outputs": [
        {
          "output_type": "stream",
          "name": "stdout",
          "text": [
            "Finding tests in NoName\n"
          ]
        }
      ],
      "source": [
        "from doctest import run_docstring_examples\n",
        "run_docstring_examples(week11, globs=globals(), verbose=True)"
      ]
    },
    {
      "cell_type": "markdown",
      "metadata": {
        "id": "6kF0EO4unfXM"
      },
      "source": [
        "---\n",
        "\n",
        "## Use this code to check your output!\n",
        "\n",
        "If you get something other than `\"You did it!!\"` then you still have work to do on your solution.\n",
        "\n",
        "The feedback provided should give you some hints as to what you haven't done correctly in filtering and organizing the data.\n",
        "\n",
        "You can run this as many times as you want.  I'm not recording who is trying what and if you're getting the right answers or not."
      ]
    },
    {
      "cell_type": "code",
      "execution_count": 25,
      "metadata": {
        "id": "E5qDIn_-nfXM",
        "outputId": "058288bc-2194-47f4-96de-4902ca8bc214",
        "colab": {
          "base_uri": "https://localhost:8080/"
        }
      },
      "outputs": [
        {
          "output_type": "stream",
          "name": "stdout",
          "text": [
            "200\n",
            "\"You did it!!\"\n"
          ]
        }
      ],
      "source": [
        "import requests\n",
        "\n",
        "r = requests.post('https://rln3ys6dciybh6cydvapszesna0oxcyn.lambda-url.us-east-1.on.aws/',\n",
        "                  headers={\"content-type\": \"application/json\"},\n",
        "                  data=week11().to_json(orient='records'))\n",
        "\n",
        "print(r.status_code)\n",
        "print(r.text)"
      ]
    }
  ],
  "metadata": {
    "kernelspec": {
      "display_name": ".venv",
      "language": "python",
      "name": "python3"
    },
    "language_info": {
      "codemirror_mode": {
        "name": "ipython",
        "version": 3
      },
      "file_extension": ".py",
      "mimetype": "text/x-python",
      "name": "python",
      "nbconvert_exporter": "python",
      "pygments_lexer": "ipython3",
      "version": "3.9.16"
    },
    "colab": {
      "provenance": [],
      "include_colab_link": true
    }
  },
  "nbformat": 4,
  "nbformat_minor": 0
}