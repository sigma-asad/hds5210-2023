{
  "cells": [
    {
      "cell_type": "markdown",
      "metadata": {
        "id": "view-in-github",
        "colab_type": "text"
      },
      "source": [
        "<a href=\"https://colab.research.google.com/github/sigma-asad/hds5210-2023/blob/main/midterm_2023_hds5210.ipynb\" target=\"_parent\"><img src=\"https://colab.research.google.com/assets/colab-badge.svg\" alt=\"Open In Colab\"/></a>"
      ]
    },
    {
      "cell_type": "markdown",
      "metadata": {
        "id": "whASFtPdhcAF"
      },
      "source": [
        "# HDS5210-2022 Midterm\n",
        "\n",
        "In the midterm, you're going to use all the programming and data management skills you've developed so far to build a risk calculator that pretends to be integrated with a clinical registry.  You'll compute the PRIEST COVID-19 Clinical Severity Score for a series of patients and, based on their risk of an adverse outcome, query a REST web service to find a hospital to transfer them to. The end result of your work will be a list of instructions on where each patient should be discharged given their risk and various characteristics of the patient.\n",
        "\n",
        "Each step in the midterm will build up to form your complete solution.\n",
        "\n",
        "**Make sure you write good docstrings and doctests along the way!!**\n",
        "\n",
        "**The midterm is due at 11:59 PM CST on Monday, October 23rd.**\n",
        "\n",
        "---"
      ]
    },
    {
      "cell_type": "markdown",
      "metadata": {
        "id": "cttB8ul6_yAa"
      },
      "source": [
        "## Step 1: Calculate PRIEST Clinical Severity Score\n",
        "\n",
        "This scoring algorithm can be found [here on the MDCalc website](https://www.mdcalc.com/priest-covid-19-clinical-severity-score#evidence).  \n",
        "\n",
        "1. You will need to write a function called **priest()** with the following input parameters.  \n",
        " * Sex (Gender assigned at birth)\n",
        " * Age in years\n",
        " * Respiratory rate in breaths per minute\n",
        " * Oxygen saturation as a percent between 0 and 1\n",
        " * Heart rate in beats per minute\n",
        " * Systolic BP in mmHg\n",
        " * Temperature in degrees C\n",
        " * Alertness as a string description\n",
        " * Inspired Oxygen as as string description\n",
        " * Performance Status as a string description\n",
        "2. The function will need to follow the algorithm provided on the MDCalc website to compute a risk percentage that should be returned as a numeric value between 0 and 1.\n",
        "3. Be sure to use docstring documentation and at least three built-in docstring test cases.\n",
        "4. Assume that the input values that are strings could be any combination of upper or lower case. For example: 'male', 'Male', 'MALE', 'MalE' should all be interpretted by your code as male.\n",
        "5. If any of the inputs are invalid (for example a sex value that is not recognizable as male or female) your code should return None.\n",
        "\n",
        "NOTES:\n",
        "1. In the final step there is a table that translates from **PRIEST Score** to **30-day probability of an outcome** but the last two probabilities are shown as ranges (59-88% and >99%).  Our code needs to output a single number, however. For our code, use the following rule:\n",
        " * If PRIEST score is between 17 and 25, the probability you return should be 0.59\n",
        " * If PRIEST score is greater than or equal to 26, the probability you return should be 0.99\n"
      ]
    },
    {
      "cell_type": "code",
      "execution_count": 1,
      "metadata": {
        "id": "OmQv7BtZ_yAa"
      },
      "outputs": [],
      "source": [
        "import requests\n",
        "import json"
      ]
    },
    {
      "cell_type": "code",
      "execution_count": 2,
      "metadata": {
        "id": "MGyN14hLhcAM"
      },
      "outputs": [],
      "source": [
        "def priest(sex: str,\n",
        "           age_in_years: int,\n",
        "           respiratory_rate: float,\n",
        "           oxygen_saturation: float,\n",
        "           heart_rate: float,\n",
        "           systolic_bp_mmhg: float,\n",
        "           temperature: float,\n",
        "           alertness: str,\n",
        "           inspired_oxygen: str,\n",
        "           performance_status: str) -> float:\n",
        "\n",
        "    \"\"\"\n",
        "    This function takes totally takes 10 input arguments which are described as\n",
        "    Input args:\n",
        "    -------------\n",
        "        Sex (Gender assigned at birth)\n",
        "        Age in years\n",
        "        Respiratory rate in breaths per minute\n",
        "        Oxygen saturation as a percent between 0 and 1\n",
        "        Heart rate in beats per minute\n",
        "        Systolic BP in mmHg\n",
        "        Temperature in degrees C\n",
        "        Alertness as a string description\n",
        "        Inspired Oxygen as as string description\n",
        "        Performance Status as a string description\n",
        "\n",
        "    Output:\n",
        "    -------------\n",
        "        It returns float value which is the PRIEST Score to 30-day probability.\n",
        "\n",
        "    here are some test cases and expected results\n",
        "    --------------\n",
        "    >>> priest(\"FEMALE\", 66, 19.0, 0.96, 135.0, 115.0, 38.1, \"ALERT\", \"AIR\", \"bed/chair bound, no self-care\")\n",
        "    0.34\n",
        "\n",
        "    >>> priest(\"Male\",16,23.0,0.96,135.0,115.0,39.2,\"ALERT\",\"supplemental oxygen\",\"unrestricted normal activity\")\n",
        "    0.29\n",
        "\n",
        "    >>> priest(\"FEMALE\",  40,  23.0,  0.96,  41.0,  115.0,  35.4,  \"ALERT\",  \"AIR\",  \"unrestricted normal activity\")\n",
        "    0.03\n",
        "\n",
        "    >>> priest(\"FEMALE\",16,22.0,0.96,135.0,115.0,39.2,\"Confused or Not Alert\",\"supplemental oxygen\",\"bed/chair bound, no self-care\")\n",
        "    0.55\n",
        "\n",
        "    >>> priest(\"Male\",40,12.0,0.93,105.0,91.0,35.1,\"ALERT\",\"AIR\",\"limited activity, can self-care\")\n",
        "    0.26\n",
        "    \"\"\"\n",
        "\n",
        "    # converting the sex to lower case to maintain the uniformity\n",
        "    result_points = 0\n",
        "    SEX_REGISTRY = {\"male\": 1, \"female\": 0}\n",
        "    sex = sex.lower()\n",
        "    result_points += SEX_REGISTRY.get(sex, 0)\n",
        "\n",
        "    # Age point fitter\n",
        "    if age_in_years >= 50 and age_in_years <= 65:\n",
        "        result_points += 2\n",
        "    elif age_in_years >= 66 and age_in_years <= 80:\n",
        "        result_points += 3\n",
        "    elif age_in_years > 80:\n",
        "        result_points += 4\n",
        "\n",
        "    # respiratory rate fitter\n",
        "    # TODO : check for proper conditions\n",
        "    if respiratory_rate < 9:\n",
        "        result_points += 3\n",
        "    elif respiratory_rate >= 9 and respiratory_rate <= 11:\n",
        "        result_points += 1\n",
        "    elif respiratory_rate >= 12 and respiratory_rate <= 20:\n",
        "        result_points += 0\n",
        "    elif respiratory_rate >= 21 and respiratory_rate <= 24:\n",
        "        result_points += 2\n",
        "    elif respiratory_rate > 24:\n",
        "        result_points += 3\n",
        "\n",
        "    # oxygen saturation fitter\n",
        "    if oxygen_saturation > 0.95:\n",
        "        result_points += 0\n",
        "    elif oxygen_saturation >= 0.94 and oxygen_saturation <= 0.95:\n",
        "        result_points += 1\n",
        "    elif oxygen_saturation >= 0.92 and oxygen_saturation <= 0.93:\n",
        "        result_points += 2\n",
        "    else:\n",
        "        result_points += 3\n",
        "\n",
        "    # heart rate fitter\n",
        "    if heart_rate < 41:\n",
        "        result_points += 3\n",
        "    elif heart_rate >= 41 and heart_rate <= 50:\n",
        "        result_points += 1\n",
        "    elif heart_rate >= 51 and heart_rate <= 90:\n",
        "        result_points += 0\n",
        "    elif heart_rate >= 91 and heart_rate <= 110:\n",
        "        result_points += 1\n",
        "    elif heart_rate >= 111 and heart_rate <= 130:\n",
        "        result_points += 2\n",
        "    else:\n",
        "        result_points += 3\n",
        "\n",
        "    # systolic bp fitter\n",
        "    if systolic_bp_mmhg < 91:\n",
        "        result_points += 3\n",
        "    elif systolic_bp_mmhg >= 91 and systolic_bp_mmhg <= 100:\n",
        "        result_points += 2\n",
        "    elif systolic_bp_mmhg >= 101 and systolic_bp_mmhg <= 110:\n",
        "        result_points += 1\n",
        "    elif systolic_bp_mmhg >= 111 and systolic_bp_mmhg <= 219:\n",
        "        result_points += 0\n",
        "    else:\n",
        "        result_points += 3\n",
        "\n",
        "    # temperature fitter\n",
        "    if temperature < 35.1:\n",
        "        result_points += 3\n",
        "    elif temperature >= 35.1 and temperature <= 36:\n",
        "        result_points += 1\n",
        "    elif temperature >= 36.1 and temperature <= 38:\n",
        "        result_points += 0\n",
        "    elif temperature >= 38.1 and temperature <= 39:\n",
        "        result_points += 1\n",
        "    else:\n",
        "        result_points += 2\n",
        "\n",
        "    # alert fitter\n",
        "    ALERT_REGISTRY = {\"alert\": 0, \"confused or not alert\": 3}\n",
        "    result_points += ALERT_REGISTRY.get(alertness.lower(), 0)\n",
        "\n",
        "    # inspired oxygen fitter\n",
        "    OXYGEN_REGISTRY = {\"air\": 0, \"supplemental oxygen\": 2}\n",
        "    result_points += OXYGEN_REGISTRY.get(inspired_oxygen.lower(), 0)\n",
        "\n",
        "    # performance status fitter\n",
        "    PERFORMANCE_REGISTRY = {'bed/chair bound, no self-care': 4,\n",
        "                            'limited activity, can self-care': 2,\n",
        "                            'limited self-care': 3,\n",
        "                            'limited strenuous activity, can do light activity': 1,\n",
        "                            'unrestricted normal activity': 0}\n",
        "    result_points += PERFORMANCE_REGISTRY.get(performance_status.lower(), 0)\n",
        "\n",
        "    PRIEST_SCORE_PROBABILITY_TABLE = {0: 0.01, 1: 0.01, 2: 0.02, 3: 0.02,\n",
        "                                      4: 0.03, 5: 0.09, 6: 0.15, 7: 0.18,\n",
        "                                      8: 0.22, 9: 0.26,\n",
        "                                      10: 0.29, 11: 0.34,\n",
        "                                      12: 0.38, 13: 0.46, 14: 0.47, 15: 0.49, 16: 0.55}\n",
        "    if result_points<17:\n",
        "        return PRIEST_SCORE_PROBABILITY_TABLE.get(result_points, 0.1)\n",
        "    elif result_points>=17 and result_points<=25:\n",
        "        return 0.59\n",
        "    return 0.99"
      ]
    },
    {
      "cell_type": "code",
      "execution_count": 3,
      "metadata": {
        "colab": {
          "base_uri": "https://localhost:8080/"
        },
        "id": "hDBMb4qPhcAM",
        "outputId": "c4bf855d-4a3d-4129-d676-7f728d870895"
      },
      "outputs": [
        {
          "output_type": "stream",
          "name": "stderr",
          "text": [
            "\n",
            "PYDEV DEBUGGER WARNING:\n",
            "sys.settrace() should not be used when the debugger is being used.\n",
            "This may cause the debugger to stop working correctly.\n",
            "If this is needed, please check: \n",
            "http://pydev.blogspot.com/2007/06/why-cant-pydev-debugger-work-with.html\n",
            "to see how to restore the debug tracing back correctly.\n",
            "Call Location:\n",
            "  File \"/usr/lib/python3.10/doctest.py\", line 1501, in run\n",
            "    sys.settrace(save_trace)\n",
            "\n"
          ]
        },
        {
          "output_type": "stream",
          "name": "stdout",
          "text": [
            "Finding tests in NoName\n",
            "Trying:\n",
            "    priest(\"FEMALE\", 66, 19.0, 0.96, 135.0, 115.0, 38.1, \"ALERT\", \"AIR\", \"bed/chair bound, no self-care\")\n",
            "Expecting:\n",
            "    0.34\n",
            "ok\n",
            "Trying:\n",
            "    priest(\"Male\",16,23.0,0.96,135.0,115.0,39.2,\"ALERT\",\"supplemental oxygen\",\"unrestricted normal activity\")\n",
            "Expecting:\n",
            "    0.29\n",
            "ok\n",
            "Trying:\n",
            "    priest(\"FEMALE\",  40,  23.0,  0.96,  41.0,  115.0,  35.4,  \"ALERT\",  \"AIR\",  \"unrestricted normal activity\")\n",
            "Expecting:\n",
            "    0.03\n",
            "ok\n",
            "Trying:\n",
            "    priest(\"FEMALE\",16,22.0,0.96,135.0,115.0,39.2,\"Confused or Not Alert\",\"supplemental oxygen\",\"bed/chair bound, no self-care\")\n",
            "Expecting:\n",
            "    0.55\n",
            "ok\n",
            "Trying:\n",
            "    priest(\"Male\",40,12.0,0.93,105.0,91.0,35.1,\"ALERT\",\"AIR\",\"limited activity, can self-care\")\n",
            "Expecting:\n",
            "    0.26\n",
            "ok\n"
          ]
        }
      ],
      "source": [
        "import doctest\n",
        "doctest.run_docstring_examples(priest, globals(),verbose=True)"
      ]
    },
    {
      "cell_type": "markdown",
      "metadata": {
        "id": "ourWLPUJhcAO"
      },
      "source": [
        "## Part 2: Find a hospital\n",
        "\n",
        "The next thing we have to do is figure out where to send this particular patient.  The guidelines on where to send a patient are based on their age (pediatric, adult, geriatric), sex, and risk percentage.  Luckily, you don't have to implement these rules. I already have. All you have to do is use a REST web service that I've created for you.\n",
        "\n",
        "You'll want to use Python to make a call to my REST web service similar to the example URL below. The first part of the URL will be the same for everyone and every request that you make. What you will need to modify for each of your requests is the information after the question mark.\n",
        "\n",
        "```\n",
        "https://oumdj6oci2.execute-api.us-east-1.amazonaws.com/prd/?age=40&sex=male&risk_pct=0.1\n",
        "```\n",
        "\n",
        "The example above asks my web service where a 40-year old male with a risk of 10% should go.  What the web service will return back is a JSON string containing the information you need.  That JSON will look like this:\n",
        "\n",
        "```json\n",
        "{\n",
        "  \"age\": \"40\",\n",
        "  \"sex\": \"male\",\n",
        "  \"risk\": \"0.1\",\n",
        "  \"hospital\": \"Southwest Hospital and Medical Center\"\n",
        "}\n",
        "```\n",
        "\n",
        "My function is not smart enough to understand `'MALE'` is the same as `'male'`.  You have to send it exactly `'male'` or `'female'`\n",
        "\n",
        "1. Your job is to write a function called **find_hospital()** that takes age, sex, and risk as parameters.\n",
        "2. Your function should call this REST web service using the `requests` module\n",
        "3. Then your function will need to interpret the JSON it gets and return just the name of the hospital\n",
        "4. If anything fails, return None\n",
        "5. Include a good docstring with at least three test cases.\n"
      ]
    },
    {
      "cell_type": "code",
      "execution_count": 4,
      "metadata": {
        "id": "hTcISPz8hcAP"
      },
      "outputs": [],
      "source": [
        "def find_hospital(age, sex, risk_percentage):\n",
        "    \"\"\"\n",
        "    This function takes totally takes 3 input arguments which are described as\n",
        "    Input args:\n",
        "    -------------\n",
        "        Age in years\n",
        "        Sex (Gender assigned at birth)\n",
        "        Risk percentage\n",
        "\n",
        "    Output:\n",
        "    -------------\n",
        "        It returns hospital name .\n",
        "\n",
        "    here are some test cases and expected results\n",
        "    --------------\n",
        "    >>> find_hospital(40, \"male\", 0.26)\n",
        "    'Southwest Hospital and Medical Center'\n",
        "\n",
        "    >>> find_hospital(65, \"female\", 0.26)\n",
        "    'Wesley Woods Geriatric Hospital'\n",
        "\n",
        "    >>> find_hospital(18, \"female\", 0.18)\n",
        "    'Select Specialty Hospital - Northeast Atlanta'\n",
        "    \"\"\"\n",
        "    try:\n",
        "        params = {\"age\": age, \"sex\" : sex.lower(), \"risk_pct\" : risk_percentage}\n",
        "        URL = \"https://oumdj6oci2.execute-api.us-east-1.amazonaws.com/prd/\"\n",
        "        response = requests.request(\"GET\",URL, params = params)\n",
        "        if response.status_code >= 200 and response.status_code < 300:\n",
        "            data = response.json()\n",
        "            return data.get(\"hospital\")\n",
        "    except Exception as err:\n",
        "        print(err)\n",
        "        return None"
      ]
    },
    {
      "cell_type": "code",
      "execution_count": 5,
      "metadata": {
        "colab": {
          "base_uri": "https://localhost:8080/"
        },
        "id": "bANyd8EjhcAP",
        "outputId": "8d1a6326-c05d-41d6-f95b-fb28aaccae96"
      },
      "outputs": [
        {
          "output_type": "stream",
          "name": "stdout",
          "text": [
            "Finding tests in NoName\n",
            "Trying:\n",
            "    find_hospital(40, \"male\", 0.26)\n",
            "Expecting:\n",
            "    'Southwest Hospital and Medical Center'\n",
            "ok\n",
            "Trying:\n",
            "    find_hospital(65, \"female\", 0.26)\n",
            "Expecting:\n",
            "    'Wesley Woods Geriatric Hospital'\n",
            "ok\n",
            "Trying:\n",
            "    find_hospital(18, \"female\", 0.18)\n",
            "Expecting:\n",
            "    'Select Specialty Hospital - Northeast Atlanta'\n",
            "ok\n"
          ]
        }
      ],
      "source": [
        "import doctest\n",
        "doctest.run_docstring_examples(find_hospital, globals(),verbose=True)"
      ]
    },
    {
      "cell_type": "markdown",
      "metadata": {
        "id": "BTfiOkKphcAQ"
      },
      "source": [
        "## Part 3: Get the address for that hospital from a JSON file\n",
        "\n",
        "Great! Now we have code to tell us which hospital to send someone to... but we don't know where that hospital is. The next function we need to create is one that looks up the address of that hospital.  All of these hospitals are in Atlanta, Georgia.  We're going to use the list from this webpage to lookup the address for that hospital, based on its name.  https://www.officialusa.com/stateguides/health/hospitals/georgia.html\n",
        "\n",
        "Because we skipped the section about Beautiful Soup and working with HTML, I've converted this information into a JSON document for you.  It's available for you here.  Your code should retrieve this file using the `requests` module.\n",
        "\n",
        "`https://drive.google.com/uc?export=download&id=1fIFD-NkcdiMu941N4GjyMDWxiKsFJBw-`\n",
        "\n",
        "1. You need to create a function called **get_address()** that takes hospital name as a parameter and searches the data from this JSON file for the hospital you want to find.\n",
        "2. Your code will have to load the JSON and return the correct hospital based on name.\n",
        "3. If the hospital name isn't found, the function should return None.\n",
        "4. Be sure to use good docstring documentation and includes at least 3 test cases."
      ]
    },
    {
      "cell_type": "code",
      "execution_count": 6,
      "metadata": {
        "id": "qVRUMo3PhcAQ"
      },
      "outputs": [],
      "source": [
        "def get_address(hospital_name):\n",
        "    \"\"\"\n",
        "    This function takes totally takes 3 input arguments which are described as\n",
        "    Input args:\n",
        "    -------------\n",
        "        hospital_name\n",
        "\n",
        "    Output:\n",
        "    -------------\n",
        "        It returns hospital address\n",
        "\n",
        "    here are some test cases and expected results\n",
        "    --------------\n",
        "    >>> get_address(\"Wesley Woods Geriatric Hospital\")\n",
        "    '1821 CLIFTON ROAD, NE'\n",
        "\n",
        "    >>> get_address(\"Select Specialty Hospital - Northeast Atlanta\")\n",
        "    '1821 CLIFTON ROAD NE'\n",
        "\n",
        "    >>> get_address(\"Southwest Hospital and Medical Center\")\n",
        "    '501 FAIRBURN ROAD SW'\n",
        "    \"\"\"\n",
        "    URL = \"https://drive.google.com/uc?export=download&id=1fIFD-NkcdiMu941N4GjyMDWxiKsFJBw-\"\n",
        "    response = requests.request(\"GET\", URL)\n",
        "    if response.status_code >= 200 and response.status_code<300:\n",
        "        data = response.json()\n",
        "        hospital_data = data.get(hospital_name.upper(), {})\n",
        "        return hospital_data.get(\"ADDRESS\")"
      ]
    },
    {
      "cell_type": "code",
      "execution_count": 7,
      "metadata": {
        "colab": {
          "base_uri": "https://localhost:8080/"
        },
        "id": "umIFJNeM_yAe",
        "outputId": "3c2591e5-0fbe-470d-f5fb-d04a78e4b90d"
      },
      "outputs": [
        {
          "output_type": "stream",
          "name": "stdout",
          "text": [
            "Finding tests in NoName\n",
            "Trying:\n",
            "    get_address(\"Wesley Woods Geriatric Hospital\")\n",
            "Expecting:\n",
            "    '1821 CLIFTON ROAD, NE'\n",
            "ok\n",
            "Trying:\n",
            "    get_address(\"Select Specialty Hospital - Northeast Atlanta\")\n",
            "Expecting:\n",
            "    '1821 CLIFTON ROAD NE'\n",
            "ok\n",
            "Trying:\n",
            "    get_address(\"Southwest Hospital and Medical Center\")\n",
            "Expecting:\n",
            "    '501 FAIRBURN ROAD SW'\n",
            "ok\n"
          ]
        }
      ],
      "source": [
        "import doctest\n",
        "doctest.run_docstring_examples(get_address, globals(),verbose=True)"
      ]
    },
    {
      "cell_type": "markdown",
      "metadata": {
        "id": "6nSu2DYRhcAR"
      },
      "source": [
        "## Part 4: Run the risk calculator on a population\n",
        "\n",
        "At the link below, there is a file called `people.psv`.  It is a pipe-delimited (`|`) file with columns that match the inputs for the PRIEST calculation above.  Your code should use the `requests` module to retrieve the file from this URL.\n",
        "\n",
        "`https://drive.google.com/uc?export=download&id=1fLxJN9YGUqmqExrilxSS8furwUER5HHh`\n",
        "\n",
        "\n",
        "In addition, the file has a patient identifier in the first column.\n",
        "\n",
        "1. Write a function called **process_people()** that takes the file location above as its only parameter. Your Python program should use your code above to process all of these rows, determine the hospital and address, and return a list whose items are a dictionary like this: `{ patient_number: [sex, age, breath, o2sat, heart, systolic, temp, alertness, inspired, status, hospital, address]}`.  Look at the file in Part 5 for what the output looks like.\n",
        "2. Be sure to use good docstrings, but you don't need any tests in your doc strings.  I've provided those for you withe file in Part 5.\n",
        "\n",
        "\n",
        "**NOTE** that when running your code for all the 100 records in the `people.psv` file, it may take a few minutes to complete.  You're making multiple calls to the internet for each record, so that can take a little while.\n"
      ]
    },
    {
      "cell_type": "code",
      "execution_count": 8,
      "metadata": {
        "id": "4qwYKjcxhcAR"
      },
      "outputs": [],
      "source": [
        "def process_people():\n",
        "    \"\"\"\n",
        "    This function will download the data from URL, as its the REST service.\n",
        "    Once the data is downloaded we will try to iter each line and preprocess each data with proper type casting\n",
        "    and then pass it to the priest fuction to get risk percentage\n",
        "    based on risk percentage we wil try to get the hospital name and address\n",
        "\n",
        "    Output\n",
        "    ------------\n",
        "        Records - these records is a dictionary which contains patitent identity as key\n",
        "            and dictionary looks like below line.\n",
        "            { patient_number: [sex, age, breath, o2sat, heart, systolic, temp, alertness,\n",
        "            inspired, status, risk_percentage, hospital, address]}\n",
        "    \"\"\"\n",
        "    URL = \"https://drive.google.com/uc?export=download&id=1fLxJN9YGUqmqExrilxSS8furwUER5HHh\"\n",
        "    response = requests.request(\"GET\", URL)\n",
        "    if response.status_code>=200 and response.status_code<300:\n",
        "        data = response.iter_lines()\n",
        "        header = True\n",
        "        header_info = []\n",
        "        records = {}\n",
        "        int_converting = [\"age\"]\n",
        "        float_converting = [\"breath\",\"o2 sat\",\"heart\",\"systolic bp\",\"temp\"]\n",
        "        for i in data:\n",
        "            record = i.decode().split(\"|\")\n",
        "            if header:\n",
        "                header_info = record\n",
        "                header = False\n",
        "            else:\n",
        "                temp = {}\n",
        "                patient_id = record[0]\n",
        "                for key,value in zip(header_info[1:], record[1:]):\n",
        "                    if key in int_converting:\n",
        "                        temp[key] = int(value)\n",
        "                    elif key in float_converting:\n",
        "                        temp[key] = float(value)\n",
        "                    else:\n",
        "                        temp[key] = value\n",
        "                risk_pct = priest(temp[\"sex\"],\n",
        "                                    temp[\"age\"],\n",
        "                                    temp[\"breath\"],\n",
        "                                    temp[\"o2 sat\"],\n",
        "                                    temp[\"heart\"],\n",
        "                                    temp[\"systolic bp\"],\n",
        "                                    temp[\"temp\"],\n",
        "                                    temp[\"alertness\"],\n",
        "                                    temp[\"inspired\"],\n",
        "                                    temp[\"status\"])\n",
        "                temp[\"risk_pct\"] = risk_pct\n",
        "                hospital_name = find_hospital(temp.get(\"age\"), temp.get(\"sex\"), risk_pct)\n",
        "                temp[\"hospital\"] = hospital_name\n",
        "                hospital_address = get_address(hospital_name)\n",
        "                temp[\"address\"] = hospital_address\n",
        "                records[patient_id] = list(temp.values())\n",
        "                print(list(temp.values()))\n",
        "        return records"
      ]
    },
    {
      "cell_type": "code",
      "execution_count": 9,
      "metadata": {
        "id": "3IogMOL8_yAe",
        "colab": {
          "base_uri": "https://localhost:8080/"
        },
        "outputId": "d5198ee3-042e-4f96-ee24-45219142f88e"
      },
      "outputs": [
        {
          "output_type": "stream",
          "name": "stdout",
          "text": [
            "['FEMALE', 40, 24.0, 0.96, 105.0, 115.0, 34.9, 'ALERT', 'AIR', 'unrestricted normal activity', 0.15, 'Select Specialty Hospital - Northeast Atlanta', '1821 CLIFTON ROAD NE']\n",
            "['Female', 51, 19.0, 0.99, 90.0, 91.0, 38.1, 'ALERT', 'supplemental oxygen', 'unrestricted normal activity', 0.18, 'Select Specialty Hospital - Northeast Atlanta', '1821 CLIFTON ROAD NE']\n",
            "['female', 40, 29.0, 0.96, 105.0, 95.0, 38.1, 'ALERT', 'air', 'unrestricted normal activity', 0.18, 'Select Specialty Hospital - Northeast Atlanta', '1821 CLIFTON ROAD NE']\n",
            "['FEMALE', 66, 19.0, 0.96, 135.0, 115.0, 38.1, 'ALERT', 'AIR', 'bed/chair bound, no self-care', 0.34, 'Wesley Woods Geriatric Hospital', '1821 CLIFTON ROAD, NE']\n",
            "['MALE', 18, 22.0, 0.95, 105.0, 115.0, 36.3, 'Confused or Not Alert', 'air', 'unrestricted normal activity', 0.22, 'Southwest Hospital and Medical Center', '501 FAIRBURN ROAD SW']\n",
            "['Male', 16, 23.0, 0.96, 135.0, 115.0, 39.2, 'ALERT', 'supplemental oxygen', 'unrestricted normal activity', 0.29, 'Childrens Healthcare of Atlanta at Scottish Rite', '1001 JOHNSON FERRY RD']\n",
            "['MALE', 40, 8.0, 0.96, 135.0, 115.0, 38.1, 'ALERT', 'AIR', 'unrestricted normal activity', 0.22, 'Southwest Hospital and Medical Center', '501 FAIRBURN ROAD SW']\n",
            "['FEMALE', 40, 23.0, 0.99, 89.0, 91.0, 38.1, 'ALERT', 'AIR', 'limited self-care', 0.22, 'Select Specialty Hospital - Northeast Atlanta', '1821 CLIFTON ROAD NE']\n",
            "['FEMALE', 80, 23.0, 0.96, 105.0, 115.0, 38.1, 'ALERT', 'supplemental oxygen', 'limited activity, can self-care', 0.34, 'Wesley Woods Geriatric Hospital', '1821 CLIFTON ROAD, NE']\n",
            "['MALE', 51, 23.0, 0.95, 105.0, 115.0, 38.1, 'ALERT', 'AIR', 'unrestricted normal activity', 0.22, 'Southwest Hospital and Medical Center', '501 FAIRBURN ROAD SW']\n",
            "['FEMALE', 40, 23.0, 0.96, 41.0, 115.0, 35.4, 'ALERT', 'AIR', 'unrestricted normal activity', 0.03, 'Select Specialty Hospital - Northeast Atlanta', '1821 CLIFTON ROAD NE']\n",
            "['FEMALE', 40, 22.0, 0.96, 105.0, 115.0, 38.1, 'ALERT', 'supplemental oxygen', 'unrestricted normal activity', 0.15, 'Select Specialty Hospital - Northeast Atlanta', '1821 CLIFTON ROAD NE']\n",
            "['MALE', 40, 20.0, 0.99, 135.0, 115.0, 39.2, 'ALERT', 'AIR', 'unrestricted normal activity', 0.15, 'Southwest Hospital and Medical Center', '501 FAIRBURN ROAD SW']\n",
            "['female', 80, 11.0, 0.93, 105.0, 95.0, 40.8, 'ALERT', 'AIR', 'limited activity, can self-care', 0.46, 'Wesley Woods Geriatric Hospital', '1821 CLIFTON ROAD, NE']\n",
            "['MALE', 80, 22.0, 0.96, 105.0, 115.0, 39.2, 'confused or not alert', 'AIR', 'limited activity, can self-care', 0.47, 'Wesley Woods Geriatric Hospital', '1821 CLIFTON ROAD, NE']\n",
            "['female', 51, 23.0, 0.94, 135.0, 115.0, 38.1, 'ALERT', 'AIR', 'limited strenuous activity, can do light activity', 0.29, 'Select Specialty Hospital - Northeast Atlanta', '1821 CLIFTON ROAD NE']\n",
            "['Male', 16, 10.0, 0.96, 105.0, 115.0, 38.1, 'ALERT', 'AIR', 'unrestricted normal activity', 0.03, 'Childrens Healthcare of Atlanta at Scottish Rite', '1001 JOHNSON FERRY RD']\n",
            "['FEMALE', 19, 11.0, 0.99, 105.0, 115.0, 35.4, 'ALERT', 'AIR', 'unrestricted normal activity', 0.02, 'Select Specialty Hospital - Northeast Atlanta', '1821 CLIFTON ROAD NE']\n",
            "['Male', 40, 20.0, 0.96, 51.0, 95.0, 34.9, 'alert', 'supplemental oxygen', 'unrestricted normal activity', 0.22, 'Southwest Hospital and Medical Center', '501 FAIRBURN ROAD SW']\n",
            "['MALE', 80, 22.0, 0.96, 41.0, 115.0, 38.1, 'ALERT', 'AIR', 'limited activity, can self-care', 0.29, 'Wesley Woods Geriatric Hospital', '1821 CLIFTON ROAD, NE']\n",
            "['FEMALE', 18, 23.0, 0.96, 135.0, 115.0, 38.1, 'ALERT', 'AIR', 'unrestricted normal activity', 0.15, 'Select Specialty Hospital - Northeast Atlanta', '1821 CLIFTON ROAD NE']\n",
            "['FEMALE', 40, 23.0, 0.96, 38.0, 115.0, 36.3, 'ALERT', 'AIR', 'unrestricted normal activity', 0.09, 'Select Specialty Hospital - Northeast Atlanta', '1821 CLIFTON ROAD NE']\n",
            "['Male', 18, 23.0, 0.96, 105.0, 115.0, 34.9, 'ALERT', 'AIR', 'unrestricted normal activity', 0.18, 'Southwest Hospital and Medical Center', '501 FAIRBURN ROAD SW']\n",
            "['FEMALE', 51, 19.0, 0.96, 135.0, 115.0, 34.9, 'ALERT', 'AIR', 'unrestricted normal activity', 0.22, 'Select Specialty Hospital - Northeast Atlanta', '1821 CLIFTON ROAD NE']\n",
            "['female', 85, 24.0, 0.99, 105.0, 101.0, 40.8, 'Confused or Not Alert', 'AIR', 'unrestricted normal activity', 0.46, 'Wesley Woods Geriatric Hospital', '1821 CLIFTON ROAD, NE']\n",
            "['FEMALE', 18, 22.0, 0.96, 105.0, 101.0, 38.1, 'ALERT', 'AIR', 'unrestricted normal activity', 0.09, 'Select Specialty Hospital - Northeast Atlanta', '1821 CLIFTON ROAD NE']\n",
            "['Male', 40, 22.0, 0.96, 105.0, 230.0, 36.3, 'ALERT', 'AIR', 'limited self-care', 0.29, 'Southwest Hospital and Medical Center', '501 FAIRBURN ROAD SW']\n",
            "['FEMALE', 40, 11.0, 0.98, 41.0, 115.0, 38.1, 'ALERT', 'AIR', 'unrestricted normal activity', 0.02, 'Select Specialty Hospital - Northeast Atlanta', '1821 CLIFTON ROAD NE']\n",
            "['male', 40, 23.0, 0.96, 105.0, 115.0, 38.1, 'Confused or Not Alert', 'AIR', 'unrestricted normal activity', 0.22, 'Southwest Hospital and Medical Center', '501 FAIRBURN ROAD SW']\n",
            "['MALE', 19, 8.0, 0.96, 105.0, 115.0, 36.3, 'alert', 'AIR', 'bed/chair bound, no self-care', 0.26, 'Southwest Hospital and Medical Center', '501 FAIRBURN ROAD SW']\n",
            "['FEMALE', 40, 22.0, 0.96, 38.0, 91.0, 35.4, 'ALERT', 'AIR', 'unrestricted normal activity', 0.22, 'Select Specialty Hospital - Northeast Atlanta', '1821 CLIFTON ROAD NE']\n",
            "['FEMALE', 16, 22.0, 0.96, 135.0, 115.0, 39.2, 'Confused or Not Alert', 'supplemental oxygen', 'bed/chair bound, no self-care', 0.55, 'Hughes Spalding Childrens Hospital', '1711 TULLIE CIRCLE NE']\n",
            "['female', 18, 22.0, 0.96, 105.0, 115.0, 38.1, 'alert', 'supplemental oxygen', 'unrestricted normal activity', 0.15, 'Select Specialty Hospital - Northeast Atlanta', '1821 CLIFTON ROAD NE']\n",
            "['FEMALE', 51, 23.0, 0.96, 105.0, 95.0, 34.9, 'ALERT', 'AIR', 'unrestricted normal activity', 0.29, 'Select Specialty Hospital - Northeast Atlanta', '1821 CLIFTON ROAD NE']\n",
            "['Male', 80, 23.0, 0.96, 135.0, 115.0, 38.1, 'ALERT', 'AIR', 'unrestricted normal activity', 0.29, 'Wesley Woods Geriatric Hospital', '1821 CLIFTON ROAD, NE']\n",
            "['FEMALE', 18, 12.0, 0.96, 105.0, 115.0, 38.1, 'ALERT', 'AIR', 'unrestricted normal activity', 0.02, 'Select Specialty Hospital - Northeast Atlanta', '1821 CLIFTON ROAD NE']\n",
            "['FEMALE', 18, 22.0, 0.96, 105.0, 230.0, 38.1, 'ALERT', 'AIR', 'limited strenuous activity, can do light activity', 0.22, 'Select Specialty Hospital - Northeast Atlanta', '1821 CLIFTON ROAD NE']\n",
            "['FEMALE', 40, 22.0, 0.96, 41.0, 230.0, 38.1, 'ALERT', 'AIR', 'unrestricted normal activity', 0.18, 'Select Specialty Hospital - Northeast Atlanta', '1821 CLIFTON ROAD NE']\n",
            "['MALE', 22, 22.0, 0.96, 115.0, 101.0, 35.4, 'ALERT', 'AIR', 'bed/chair bound, no self-care', 0.34, 'Emory Dunwoody Medical Center', '4500 NORTH SHALLOWFORD ROAD']\n",
            "['Male', 40, 12.0, 0.93, 105.0, 91.0, 35.1, 'ALERT', 'AIR', 'limited activity, can self-care', 0.26, 'Southwest Hospital and Medical Center', '501 FAIRBURN ROAD SW']\n",
            "['FEMALE', 66, 23.0, 0.96, 135.0, 89.0, 40.8, 'ALERT', 'supplemental oxygen', 'unrestricted normal activity', 0.49, 'Wesley Woods Geriatric Hospital', '1821 CLIFTON ROAD, NE']\n",
            "['female', 18, 23.0, 0.98, 105.0, 115.0, 38.1, 'ALERT', 'AIR', 'limited self-care', 0.18, 'Select Specialty Hospital - Northeast Atlanta', '1821 CLIFTON ROAD NE']\n",
            "['MALE', 18, 12.0, 0.96, 105.0, 89.0, 35.1, 'ALERT', 'AIR', 'unrestricted normal activity', 0.15, 'Southwest Hospital and Medical Center', '501 FAIRBURN ROAD SW']\n",
            "['Female', 18, 23.0, 0.96, 41.0, 95.0, 38.1, 'ALERT', 'supplemental oxygen', 'limited activity, can self-care', 0.29, 'Select Specialty Hospital - Northeast Atlanta', '1821 CLIFTON ROAD NE']\n",
            "['male', 65, 10.0, 0.96, 135.0, 91.0, 38.1, 'ALERT', 'AIR', 'unrestricted normal activity', 0.29, 'Wesley Woods Geriatric Hospital', '1821 CLIFTON ROAD, NE']\n",
            "['FEMALE', 40, 12.0, 0.98, 105.0, 95.0, 38.1, 'ALERT', 'AIR', 'unrestricted normal activity', 0.03, 'Select Specialty Hospital - Northeast Atlanta', '1821 CLIFTON ROAD NE']\n",
            "['MALE', 18, 23.0, 0.93, 89.0, 115.0, 35.1, 'confused or not alert', 'AIR', 'limited activity, can self-care', 0.34, 'Emory Dunwoody Medical Center', '4500 NORTH SHALLOWFORD ROAD']\n",
            "['FEMALE', 40, 22.0, 0.96, 41.0, 115.0, 38.1, 'ALERT', 'AIR', 'unrestricted normal activity', 0.03, 'Select Specialty Hospital - Northeast Atlanta', '1821 CLIFTON ROAD NE']\n",
            "['Female', 18, 10.0, 0.96, 90.0, 230.0, 38.1, 'ALERT', 'AIR', 'limited self-care', 0.22, 'Select Specialty Hospital - Northeast Atlanta', '1821 CLIFTON ROAD NE']\n",
            "['FEMALE', 65, 23.0, 0.96, 105.0, 115.0, 40.8, 'ALERT', 'AIR', 'limited activity, can self-care', 0.26, 'Wesley Woods Geriatric Hospital', '1821 CLIFTON ROAD, NE']\n",
            "['FEMALE', 66, 8.0, 0.94, 105.0, 89.0, 35.4, 'alert', 'AIR', 'bed/chair bound, no self-care', 0.55, 'Wesley Woods Geriatric Hospital', '1821 CLIFTON ROAD, NE']\n",
            "['FEMALE', 40, 23.0, 0.96, 105.0, 95.0, 38.1, 'alert', 'AIR', 'unrestricted normal activity', 0.15, 'Select Specialty Hospital - Northeast Atlanta', '1821 CLIFTON ROAD NE']\n",
            "['Male', 18, 8.0, 0.96, 105.0, 115.0, 38.1, 'ALERT', 'AIR', 'limited strenuous activity, can do light activity', 0.18, 'Southwest Hospital and Medical Center', '501 FAIRBURN ROAD SW']\n",
            "['MALE', 18, 23.0, 0.96, 135.0, 115.0, 38.1, 'ALERT', 'AIR', 'unrestricted normal activity', 0.18, 'Southwest Hospital and Medical Center', '501 FAIRBURN ROAD SW']\n",
            "['Male', 18, 12.0, 0.96, 115.0, 115.0, 38.1, 'ALERT', 'AIR', 'unrestricted normal activity', 0.03, 'Southwest Hospital and Medical Center', '501 FAIRBURN ROAD SW']\n",
            "['female', 40, 29.0, 0.96, 105.0, 95.0, 38.1, 'ALERT', 'AIR', 'unrestricted normal activity', 0.18, 'Select Specialty Hospital - Northeast Atlanta', '1821 CLIFTON ROAD NE']\n",
            "['male', 65, 12.0, 0.96, 51.0, 230.0, 38.1, 'alert', 'AIR', 'unrestricted normal activity', 0.18, 'Wesley Woods Geriatric Hospital', '1821 CLIFTON ROAD, NE']\n",
            "['male', 18, 24.0, 0.99, 105.0, 115.0, 38.1, 'ALERT', 'AIR', 'unrestricted normal activity', 0.09, 'Southwest Hospital and Medical Center', '501 FAIRBURN ROAD SW']\n",
            "['female', 66, 23.0, 0.96, 115.0, 89.0, 38.1, 'ALERT', 'AIR', 'limited strenuous activity, can do light activity', 0.38, 'Wesley Woods Geriatric Hospital', '1821 CLIFTON ROAD, NE']\n",
            "['FEMALE', 18, 24.0, 0.96, 41.0, 115.0, 35.1, 'confused or not alert', 'AIR', 'unrestricted normal activity', 0.18, 'Select Specialty Hospital - Northeast Atlanta', '1821 CLIFTON ROAD NE']\n",
            "['FEMALE', 40, 22.0, 0.93, 38.0, 95.0, 38.1, 'Confused or Not Alert', 'AIR', 'unrestricted normal activity', 0.46, 'Emory Dunwoody Medical Center', '4500 NORTH SHALLOWFORD ROAD']\n",
            "['Female', 40, 12.0, 0.93, 105.0, 115.0, 38.1, 'ALERT', 'AIR', 'unrestricted normal activity', 0.03, 'Select Specialty Hospital - Northeast Atlanta', '1821 CLIFTON ROAD NE']\n",
            "['FEMALE', 19, 22.0, 0.98, 50.0, 95.0, 38.1, 'ALERT', 'AIR', 'limited activity, can self-care', 0.22, 'Select Specialty Hospital - Northeast Atlanta', '1821 CLIFTON ROAD NE']\n",
            "['FEMALE', 40, 8.0, 0.89, 105.0, 101.0, 38.1, 'ALERT', 'supplemental oxygen', 'unrestricted normal activity', 0.34, 'Emory Dunwoody Medical Center', '4500 NORTH SHALLOWFORD ROAD']\n",
            "['Female', 40, 10.0, 0.95, 105.0, 95.0, 38.1, 'ALERT', 'AIR', 'unrestricted normal activity', 0.15, 'Select Specialty Hospital - Northeast Atlanta', '1821 CLIFTON ROAD NE']\n",
            "['Female', 40, 8.0, 0.96, 38.0, 115.0, 36.3, 'ALERT', 'AIR', 'limited strenuous activity, can do light activity', 0.18, 'Select Specialty Hospital - Northeast Atlanta', '1821 CLIFTON ROAD NE']\n",
            "['female', 18, 23.0, 0.96, 135.0, 115.0, 38.1, 'ALERT', 'AIR', 'unrestricted normal activity', 0.15, 'Select Specialty Hospital - Northeast Atlanta', '1821 CLIFTON ROAD NE']\n",
            "['female', 40, 23.0, 0.94, 105.0, 115.0, 36.3, 'ALERT', 'AIR', 'unrestricted normal activity', 0.03, 'Select Specialty Hospital - Northeast Atlanta', '1821 CLIFTON ROAD NE']\n",
            "['female', 19, 23.0, 0.96, 89.0, 115.0, 38.1, 'ALERT', 'AIR', 'unrestricted normal activity', 0.02, 'Select Specialty Hospital - Northeast Atlanta', '1821 CLIFTON ROAD NE']\n",
            "['FEMALE', 18, 24.0, 0.95, 50.0, 115.0, 38.1, 'Confused or Not Alert', 'AIR', 'limited self-care', 0.34, 'Emory Dunwoody Medical Center', '4500 NORTH SHALLOWFORD ROAD']\n",
            "['female', 80, 12.0, 0.96, 50.0, 89.0, 38.1, 'ALERT', 'AIR', 'unrestricted normal activity', 0.22, 'Wesley Woods Geriatric Hospital', '1821 CLIFTON ROAD, NE']\n",
            "['FEMALE', 18, 11.0, 0.96, 105.0, 115.0, 38.1, 'ALERT', 'air', 'limited self-care', 0.15, 'Select Specialty Hospital - Northeast Atlanta', '1821 CLIFTON ROAD NE']\n",
            "['female', 66, 12.0, 0.98, 41.0, 115.0, 34.9, 'ALERT', 'air', 'unrestricted normal activity', 0.18, 'Wesley Woods Geriatric Hospital', '1821 CLIFTON ROAD, NE']\n",
            "['male', 40, 10.0, 0.98, 105.0, 115.0, 38.1, 'ALERT', 'AIR', 'unrestricted normal activity', 0.03, 'Southwest Hospital and Medical Center', '501 FAIRBURN ROAD SW']\n",
            "['FEMALE', 18, 12.0, 0.99, 51.0, 115.0, 38.1, 'Confused or Not Alert', 'AIR', 'unrestricted normal activity', 0.03, 'Select Specialty Hospital - Northeast Atlanta', '1821 CLIFTON ROAD NE']\n",
            "['male', 18, 20.0, 0.94, 105.0, 115.0, 35.4, 'ALERT', 'air', 'unrestricted normal activity', 0.03, 'Southwest Hospital and Medical Center', '501 FAIRBURN ROAD SW']\n",
            "['Male', 85, 10.0, 0.96, 105.0, 115.0, 38.1, 'Confused or Not Alert', 'supplemental oxygen', 'unrestricted normal activity', 0.46, 'Wesley Woods Geriatric Hospital', '1821 CLIFTON ROAD, NE']\n",
            "['FEMALE', 40, 23.0, 0.96, 90.0, 101.0, 38.1, 'ALERT', 'AIR', 'unrestricted normal activity', 0.03, 'Select Specialty Hospital - Northeast Atlanta', '1821 CLIFTON ROAD NE']\n",
            "['Male', 51, 24.0, 0.98, 105.0, 91.0, 38.1, 'ALERT', 'AIR', 'unrestricted normal activity', 0.26, 'Southwest Hospital and Medical Center', '501 FAIRBURN ROAD SW']\n",
            "['Female', 85, 22.0, 0.96, 105.0, 115.0, 38.1, 'ALERT', 'supplemental oxygen', 'unrestricted normal activity', 0.29, 'Wesley Woods Geriatric Hospital', '1821 CLIFTON ROAD, NE']\n",
            "['Male', 18, 22.0, 0.94, 105.0, 115.0, 38.1, 'ALERT', 'air', 'limited self-care', 0.26, 'Southwest Hospital and Medical Center', '501 FAIRBURN ROAD SW']\n",
            "['Female', 40, 19.0, 0.89, 41.0, 115.0, 34.9, 'ALERT', 'air', 'unrestricted normal activity', 0.18, 'Select Specialty Hospital - Northeast Atlanta', '1821 CLIFTON ROAD NE']\n",
            "['FEMALE', 40, 12.0, 0.95, 105.0, 91.0, 38.1, 'ALERT', 'AIR', 'limited self-care', 0.22, 'Select Specialty Hospital - Northeast Atlanta', '1821 CLIFTON ROAD NE']\n",
            "['male', 65, 22.0, 0.96, 41.0, 115.0, 38.1, 'ALERT', 'AIR', 'unrestricted normal activity', 0.18, 'Wesley Woods Geriatric Hospital', '1821 CLIFTON ROAD, NE']\n",
            "['Female', 40, 12.0, 0.94, 105.0, 101.0, 38.1, 'ALERT', 'AIR', 'unrestricted normal activity', 0.03, 'Select Specialty Hospital - Northeast Atlanta', '1821 CLIFTON ROAD NE']\n",
            "['FEMALE', 40, 23.0, 0.96, 41.0, 115.0, 35.1, 'confused or not alert', 'AIR', 'unrestricted normal activity', 0.18, 'Select Specialty Hospital - Northeast Atlanta', '1821 CLIFTON ROAD NE']\n",
            "['FEMALE', 18, 20.0, 0.99, 105.0, 95.0, 35.1, 'alert', 'AIR', 'unrestricted normal activity', 0.03, 'Select Specialty Hospital - Northeast Atlanta', '1821 CLIFTON ROAD NE']\n",
            "['FEMALE', 40, 8.0, 0.96, 105.0, 115.0, 35.4, 'ALERT', 'AIR', 'unrestricted normal activity', 0.09, 'Select Specialty Hospital - Northeast Atlanta', '1821 CLIFTON ROAD NE']\n",
            "['Female', 18, 20.0, 0.96, 38.0, 115.0, 36.3, 'ALERT', 'air', 'limited strenuous activity, can do light activity', 0.03, 'Select Specialty Hospital - Northeast Atlanta', '1821 CLIFTON ROAD NE']\n",
            "['FEMALE', 18, 20.0, 0.99, 135.0, 89.0, 35.1, 'ALERT', 'supplemental oxygen', 'unrestricted normal activity', 0.26, 'Select Specialty Hospital - Northeast Atlanta', '1821 CLIFTON ROAD NE']\n",
            "['male', 65, 23.0, 0.99, 105.0, 91.0, 38.1, 'alert', 'AIR', 'unrestricted normal activity', 0.26, 'Wesley Woods Geriatric Hospital', '1821 CLIFTON ROAD, NE']\n",
            "['male', 40, 23.0, 0.93, 105.0, 115.0, 38.1, 'ALERT', 'supplemental oxygen', 'unrestricted normal activity', 0.26, 'Southwest Hospital and Medical Center', '501 FAIRBURN ROAD SW']\n",
            "['Female', 40, 12.0, 0.96, 105.0, 91.0, 38.1, 'alert', 'AIR', 'unrestricted normal activity', 0.03, 'Select Specialty Hospital - Northeast Atlanta', '1821 CLIFTON ROAD NE']\n",
            "['FEMALE', 40, 29.0, 0.96, 41.0, 115.0, 38.1, 'ALERT', 'AIR', 'bed/chair bound, no self-care', 0.26, 'Select Specialty Hospital - Northeast Atlanta', '1821 CLIFTON ROAD NE']\n",
            "['FEMALE', 18, 22.0, 0.93, 90.0, 101.0, 38.1, 'confused or not alert', 'AIR', 'unrestricted normal activity', 0.26, 'Select Specialty Hospital - Northeast Atlanta', '1821 CLIFTON ROAD NE']\n",
            "['FEMALE', 18, 22.0, 0.96, 50.0, 115.0, 38.1, 'ALERT', 'AIR', 'limited strenuous activity, can do light activity', 0.09, 'Select Specialty Hospital - Northeast Atlanta', '1821 CLIFTON ROAD NE']\n",
            "['FEMALE', 85, 23.0, 0.96, 115.0, 115.0, 38.1, 'ALERT', 'AIR', 'unrestricted normal activity', 0.26, 'Wesley Woods Geriatric Hospital', '1821 CLIFTON ROAD, NE']\n",
            "['Female', 40, 22.0, 0.98, 89.0, 230.0, 38.1, 'alert', 'AIR', 'unrestricted normal activity', 0.15, 'Select Specialty Hospital - Northeast Atlanta', '1821 CLIFTON ROAD NE']\n",
            "['FEMALE', 18, 23.0, 0.96, 105.0, 101.0, 38.1, 'ALERT', 'AIR', 'limited activity, can self-care', 0.18, 'Select Specialty Hospital - Northeast Atlanta', '1821 CLIFTON ROAD NE']\n"
          ]
        }
      ],
      "source": [
        "data = process_people()"
      ]
    },
    {
      "cell_type": "markdown",
      "metadata": {
        "id": "PTLLMpAJhcAR"
      },
      "source": [
        "## Part 5: Checking your final results\n",
        "\n",
        "The final step is to check your results.  You should be able to compare your results to the output in `people_results.json` at the link below.  Write some code to check your results.  This does not need to be a function.\n",
        "\n",
        "`https://drive.google.com/uc?export=download&id=1gx1SSC20mO5XL6uYD0mdcM_cL91fcIW5`\n"
      ]
    },
    {
      "cell_type": "code",
      "execution_count": 10,
      "metadata": {
        "id": "SPxLBPw6hcAR"
      },
      "outputs": [],
      "source": [
        "URL = \"https://drive.google.com/uc?export=download&id=1gx1SSC20mO5XL6uYD0mdcM_cL91fcIW5\"\n",
        "response = requests.request(\"GET\", URL)\n",
        "if response.status_code>=200 and response.status_code<300:\n",
        "    actual_file_data = response.json()\n",
        "    # lets start comparing the data here\n",
        "    for i in data.keys():\n",
        "        data_value = data[i]\n",
        "        actual_data_value = actual_file_data[i]\n",
        "        if data_value != actual_data_value:\n",
        "            print(i)\n",
        "            print(data_value, actual_data_value)"
      ]
    },
    {
      "cell_type": "markdown",
      "metadata": {
        "id": "uxE-AH1OhcAS"
      },
      "source": [
        "---\n",
        "\n",
        "## Check your work above\n",
        "\n",
        "If you didn't get them all correct, take a few minutes to think through those that aren't correct.\n",
        "\n",
        "\n",
        "## Submitting Your Work\n",
        "\n",
        "Submit your work as usual into a folder named `midterm`"
      ]
    },
    {
      "cell_type": "markdown",
      "metadata": {
        "id": "UIOowrJZhcAS"
      },
      "source": [
        "---"
      ]
    },
    {
      "cell_type": "code",
      "execution_count": 11,
      "metadata": {
        "id": "nHnMhpeb_yAf"
      },
      "outputs": [],
      "source": [
        "def summarize_results(patients):\n",
        "    \"\"\"\n",
        "    This function is used to summarize the results of the patients where\n",
        "    If the PRIEST probably is less than 10%, change the hospital name to both have a value of 'Home'\n",
        "    indicating patients with a lower probability of an adverse outcome can just go home rather\n",
        "    than be admitted to a hospital. this should help us understand how many users are going to hospital or home\n",
        "\n",
        "    Input\n",
        "    ---------\n",
        "        patients :\n",
        "\n",
        "    Output\n",
        "    ---------\n",
        "        response: its the dictionary which consists key as hospital name and value as patient count who is going to that hospital\n",
        "    \"\"\"\n",
        "    response = {}\n",
        "    for key in patients.keys():\n",
        "        record = patients[key]\n",
        "        priest_pct = record[-3]\n",
        "        if priest_pct < 0.1:\n",
        "            if \"Home\" in response:\n",
        "                response[\"Home\"] += 1\n",
        "            else:\n",
        "                response[\"Home\"] = 1\n",
        "        else:\n",
        "            hospital_name = record[-2]\n",
        "            if hospital_name in response:\n",
        "                response[hospital_name] += 1\n",
        "            else:\n",
        "                response[hospital_name] = 1\n",
        "    return response"
      ]
    },
    {
      "cell_type": "code",
      "execution_count": 12,
      "metadata": {
        "colab": {
          "base_uri": "https://localhost:8080/"
        },
        "id": "9onyDjuS_yAf",
        "outputId": "54875270-1fea-4a90-adb4-e3c7dbdb18f4"
      },
      "outputs": [
        {
          "output_type": "execute_result",
          "data": {
            "text/plain": [
              "{'Select Specialty Hospital - Northeast Atlanta': 32,\n",
              " 'Wesley Woods Geriatric Hospital': 20,\n",
              " 'Southwest Hospital and Medical Center': 16,\n",
              " 'Childrens Healthcare of Atlanta at Scottish Rite': 1,\n",
              " 'Home': 24,\n",
              " 'Hughes Spalding Childrens Hospital': 1,\n",
              " 'Emory Dunwoody Medical Center': 5}"
            ]
          },
          "metadata": {},
          "execution_count": 12
        }
      ],
      "source": [
        "summarize_results(data)"
      ]
    }
  ],
  "metadata": {
    "colab": {
      "provenance": [],
      "include_colab_link": true
    },
    "kernelspec": {
      "display_name": "Python 3 (ipykernel)",
      "language": "python",
      "name": "python3"
    },
    "language_info": {
      "codemirror_mode": {
        "name": "ipython",
        "version": 3
      },
      "file_extension": ".py",
      "mimetype": "text/x-python",
      "name": "python",
      "nbconvert_exporter": "python",
      "pygments_lexer": "ipython3",
      "version": "3.11.3"
    }
  },
  "nbformat": 4,
  "nbformat_minor": 0
}