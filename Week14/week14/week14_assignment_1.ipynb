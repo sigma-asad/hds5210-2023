{
  "cells": [
    {
      "cell_type": "markdown",
      "metadata": {
        "id": "exMENZua5xT0"
      },
      "source": [
        "# Nothing to do"
      ]
    },
    {
      "cell_type": "markdown",
      "metadata": {
        "id": "8ZjDGLTZ5xT2"
      },
      "source": [
        "There is no \"assignment_1\" file this week.  :)"
      ]
    },
    {
      "cell_type": "markdown",
      "metadata": {
        "id": "ILXOcOiE5xT2"
      },
      "source": []
    }
  ],
  "metadata": {
    "language_info": {
      "name": "python"
    },
    "colab": {
      "provenance": []
    }
  },
  "nbformat": 4,
  "nbformat_minor": 0
}
