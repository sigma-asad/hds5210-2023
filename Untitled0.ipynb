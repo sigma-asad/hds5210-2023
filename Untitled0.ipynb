{
  "nbformat": 4,
  "nbformat_minor": 0,
  "metadata": {
    "colab": {
      "provenance": [],
      "authorship_tag": "ABX9TyOvikUAlNBpDDvc+455jqu1",
      "include_colab_link": true
    },
    "kernelspec": {
      "name": "python3",
      "display_name": "Python 3"
    },
    "language_info": {
      "name": "python"
    }
  },
  "cells": [
    {
      "cell_type": "markdown",
      "metadata": {
        "id": "view-in-github",
        "colab_type": "text"
      },
      "source": [
        "<a href=\"https://colab.research.google.com/github/sigma-asad/hds5210-2023/blob/main/Untitled0.ipynb\" target=\"_parent\"><img src=\"https://colab.research.google.com/assets/colab-badge.svg\" alt=\"Open In Colab\"/></a>"
      ]
    },
    {
      "cell_type": "code",
      "execution_count": 1,
      "metadata": {
        "id": "DMdWvnfV57Nb"
      },
      "outputs": [],
      "source": [
        "from random import randrange"
      ]
    },
    {
      "cell_type": "code",
      "source": [
        "a_list=[]\n",
        "for i in range (1000):\n",
        "  a_list.append(randrange(1,101))"
      ],
      "metadata": {
        "id": "rJMryf0C6ALv"
      },
      "execution_count": 23,
      "outputs": []
    },
    {
      "cell_type": "code",
      "source": [
        "len(set(a_list))"
      ],
      "metadata": {
        "colab": {
          "base_uri": "https://localhost:8080/"
        },
        "id": "L2fWP6hZ6Ig-",
        "outputId": "e4f4a9ef-2d08-4582-f53d-3d62c4e95271"
      },
      "execution_count": 24,
      "outputs": [
        {
          "output_type": "execute_result",
          "data": {
            "text/plain": [
              "100"
            ]
          },
          "metadata": {},
          "execution_count": 24
        }
      ]
    },
    {
      "cell_type": "code",
      "source": [
        "set(a_list)"
      ],
      "metadata": {
        "colab": {
          "base_uri": "https://localhost:8080/"
        },
        "id": "lAYyvcW26P2w",
        "outputId": "794e5bd2-605f-4844-ba77-d0f8a8d90cb0"
      },
      "execution_count": 25,
      "outputs": [
        {
          "output_type": "execute_result",
          "data": {
            "text/plain": [
              "{1,\n",
              " 2,\n",
              " 3,\n",
              " 4,\n",
              " 5,\n",
              " 6,\n",
              " 7,\n",
              " 8,\n",
              " 9,\n",
              " 10,\n",
              " 11,\n",
              " 12,\n",
              " 13,\n",
              " 14,\n",
              " 15,\n",
              " 16,\n",
              " 17,\n",
              " 18,\n",
              " 19,\n",
              " 20,\n",
              " 21,\n",
              " 22,\n",
              " 23,\n",
              " 24,\n",
              " 25,\n",
              " 26,\n",
              " 27,\n",
              " 28,\n",
              " 29,\n",
              " 30,\n",
              " 31,\n",
              " 32,\n",
              " 33,\n",
              " 34,\n",
              " 35,\n",
              " 36,\n",
              " 37,\n",
              " 38,\n",
              " 39,\n",
              " 40,\n",
              " 41,\n",
              " 42,\n",
              " 43,\n",
              " 44,\n",
              " 45,\n",
              " 46,\n",
              " 47,\n",
              " 48,\n",
              " 49,\n",
              " 50,\n",
              " 51,\n",
              " 52,\n",
              " 53,\n",
              " 54,\n",
              " 55,\n",
              " 56,\n",
              " 57,\n",
              " 58,\n",
              " 59,\n",
              " 60,\n",
              " 61,\n",
              " 62,\n",
              " 63,\n",
              " 64,\n",
              " 65,\n",
              " 66,\n",
              " 67,\n",
              " 68,\n",
              " 69,\n",
              " 70,\n",
              " 71,\n",
              " 72,\n",
              " 73,\n",
              " 74,\n",
              " 75,\n",
              " 76,\n",
              " 77,\n",
              " 78,\n",
              " 79,\n",
              " 80,\n",
              " 81,\n",
              " 82,\n",
              " 83,\n",
              " 84,\n",
              " 85,\n",
              " 86,\n",
              " 87,\n",
              " 88,\n",
              " 89,\n",
              " 90,\n",
              " 91,\n",
              " 92,\n",
              " 93,\n",
              " 94,\n",
              " 95,\n",
              " 96,\n",
              " 97,\n",
              " 98,\n",
              " 99,\n",
              " 100}"
            ]
          },
          "metadata": {},
          "execution_count": 25
        }
      ]
    },
    {
      "cell_type": "code",
      "source": [
        "family= {\n",
        "  'asad':100,\n",
        "  'bush':88,\n",
        "  'mishael': 90,\n",
        "  'peachy': 9\n",
        "}"
      ],
      "metadata": {
        "id": "GoQ0K41j6jeg"
      },
      "execution_count": 36,
      "outputs": []
    },
    {
      "cell_type": "code",
      "source": [],
      "metadata": {
        "id": "qQCdbvRmDWGj"
      },
      "execution_count": null,
      "outputs": []
    },
    {
      "cell_type": "code",
      "source": [],
      "metadata": {
        "id": "FE3frCobDULm"
      },
      "execution_count": null,
      "outputs": []
    },
    {
      "cell_type": "code",
      "source": [
        "type(family)"
      ],
      "metadata": {
        "colab": {
          "base_uri": "https://localhost:8080/"
        },
        "id": "GnW3GcBu6U55",
        "outputId": "5e6554d0-4392-4a71-9f60-61c87e2db138"
      },
      "execution_count": 37,
      "outputs": [
        {
          "output_type": "execute_result",
          "data": {
            "text/plain": [
              "dict"
            ]
          },
          "metadata": {},
          "execution_count": 37
        }
      ]
    },
    {
      "cell_type": "code",
      "source": [],
      "metadata": {
        "id": "FVTFLAtYDXZ3"
      },
      "execution_count": null,
      "outputs": []
    },
    {
      "cell_type": "code",
      "source": [
        "len(family)"
      ],
      "metadata": {
        "colab": {
          "base_uri": "https://localhost:8080/"
        },
        "id": "jjU_BxTTCbir",
        "outputId": "9fffee3e-6b9f-453c-bdc8-2feaf763c1ea"
      },
      "execution_count": 38,
      "outputs": [
        {
          "output_type": "execute_result",
          "data": {
            "text/plain": [
              "4"
            ]
          },
          "metadata": {},
          "execution_count": 38
        }
      ]
    },
    {
      "cell_type": "code",
      "source": [],
      "metadata": {
        "id": "P6eiaTnmDYQs"
      },
      "execution_count": null,
      "outputs": []
    },
    {
      "cell_type": "code",
      "source": [
        "for member, age in family.items():\n",
        "  print (age)"
      ],
      "metadata": {
        "colab": {
          "base_uri": "https://localhost:8080/"
        },
        "id": "r0ZvH0mnCdTw",
        "outputId": "7f88f5ff-37ab-47c8-fe64-43aa8b05c594"
      },
      "execution_count": 39,
      "outputs": [
        {
          "output_type": "stream",
          "name": "stdout",
          "text": [
            "100\n",
            "88\n",
            "90\n",
            "9\n"
          ]
        }
      ]
    },
    {
      "cell_type": "code",
      "source": [],
      "metadata": {
        "id": "sSPXmOsSDZFL"
      },
      "execution_count": null,
      "outputs": []
    },
    {
      "cell_type": "code",
      "source": [
        "for member, names in family.items():\n",
        "  print (names)"
      ],
      "metadata": {
        "colab": {
          "base_uri": "https://localhost:8080/"
        },
        "id": "EFAAVzJgCw-o",
        "outputId": "831c1699-d279-4597-a7a5-f3736b34268c"
      },
      "execution_count": 40,
      "outputs": [
        {
          "output_type": "stream",
          "name": "stdout",
          "text": [
            "100\n",
            "88\n",
            "90\n",
            "9\n"
          ]
        }
      ]
    },
    {
      "cell_type": "code",
      "source": [],
      "metadata": {
        "id": "lwTdU7R8DZ80"
      },
      "execution_count": null,
      "outputs": []
    },
    {
      "cell_type": "code",
      "source": [
        "for name, age in family.items():\n",
        "  if age>=18:\n",
        "    print(f' {name} is a {age} old adult')\n",
        "  else:\n",
        "    print (f'{name} is a {age} year old child')"
      ],
      "metadata": {
        "colab": {
          "base_uri": "https://localhost:8080/"
        },
        "id": "7hvpv8kFC1XI",
        "outputId": "3c9bc522-b8db-4f00-b173-46ccf5623b6d"
      },
      "execution_count": 41,
      "outputs": [
        {
          "output_type": "stream",
          "name": "stdout",
          "text": [
            " asad is a 100 old adult\n",
            " bush is a 88 old adult\n",
            " mishael is a 90 old adult\n",
            "peachy is a 9 year old child\n"
          ]
        }
      ]
    },
    {
      "cell_type": "code",
      "source": [
        "family = {\n",
        "    'Paul': {'name': 'Paul Boal', 'age': 46},\n",
        "    'Sarahlynn': {'name': 'Sarahlynn Lester', 'age': 49},\n",
        "    'Ellie': {'name': 'Ellie Lester-Boal', 'age': 19},\n",
        "    'Ada': {'name': 'Ada Lester-Boal', 'age': 16},\n",
        "    'Teddy': {'name': 'Teddy Lester-Boal', 'age': 12},\n",
        "    'Shep': {'name': 'Shep Lester-Boal', 'age': 1}\n",
        "}"
      ],
      "metadata": {
        "id": "gK9I2QRnDahx"
      },
      "execution_count": 42,
      "outputs": []
    },
    {
      "cell_type": "code",
      "source": [
        "for name, info in family.items():\n",
        "  print(info)"
      ],
      "metadata": {
        "colab": {
          "base_uri": "https://localhost:8080/"
        },
        "id": "mBfgeQKAETKA",
        "outputId": "2fe28d25-21c7-4856-ce65-ac33423fb1f1"
      },
      "execution_count": 44,
      "outputs": [
        {
          "output_type": "stream",
          "name": "stdout",
          "text": [
            "{'name': 'Paul Boal', 'age': 46}\n",
            "{'name': 'Sarahlynn Lester', 'age': 49}\n",
            "{'name': 'Ellie Lester-Boal', 'age': 19}\n",
            "{'name': 'Ada Lester-Boal', 'age': 16}\n",
            "{'name': 'Teddy Lester-Boal', 'age': 12}\n",
            "{'name': 'Shep Lester-Boal', 'age': 1}\n"
          ]
        }
      ]
    },
    {
      "cell_type": "code",
      "source": [
        "for name, info in family.items():\n",
        "  print(info['name'])"
      ],
      "metadata": {
        "colab": {
          "base_uri": "https://localhost:8080/"
        },
        "id": "yF1Cc5FhEWfN",
        "outputId": "e0bc5956-d8b9-48aa-f33a-9749a08c96aa"
      },
      "execution_count": 46,
      "outputs": [
        {
          "output_type": "stream",
          "name": "stdout",
          "text": [
            "Paul Boal\n",
            "Sarahlynn Lester\n",
            "Ellie Lester-Boal\n",
            "Ada Lester-Boal\n",
            "Teddy Lester-Boal\n",
            "Shep Lester-Boal\n"
          ]
        }
      ]
    },
    {
      "cell_type": "code",
      "source": [],
      "metadata": {
        "id": "ZzqbbRhiEpmq"
      },
      "execution_count": null,
      "outputs": []
    }
  ]
}